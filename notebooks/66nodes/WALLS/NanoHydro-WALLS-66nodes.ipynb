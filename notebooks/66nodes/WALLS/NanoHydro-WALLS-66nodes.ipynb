{
 "cells": [
  {
   "cell_type": "markdown",
   "metadata": {},
   "source": [
    "# -----------------------------------------------------\n",
    "# Raiders of the Lost Plateau \n",
    "## WALLS - 66 nodes\n",
    "### Created:   May 2018\n",
    "### Modified: November 2018\n",
    "# -----------------------------------------------------"
   ]
  },
  {
   "cell_type": "markdown",
   "metadata": {},
   "source": [
    "## Notes\n",
    "\n",
    "1. Not trying to obtain a smooth matrix $C(t)$ converting to zero the eigenvalues below a cutoff value. The matrix $\\Lambda(t)$ calculated after it is worst than the obtained with the original $C(t)$.\n",
    "\n",
    "2. There is no difference in $C^{-1}(t)$ when *rcond* is changed.\n",
    "\n",
    "3. $\\tilde{\\Lambda}(t) = -\\tilde{\\dot{C}}·\\tilde{C^{-1}}(t)$ and $\\tilde{\\Lambda}(t) = E^{-1}·\\Lambda(t)·E$ are equivalent if the basis of eigenvectors of $C(t)$, $E$, is time-independent. In this notebook we use the second expression. We prove that the basis used is time-independent.\n",
    "\n",
    "4. Compute the integral of the correlations using the trapezoidal rule instead of the operator: \n",
    "\n",
    "  \\begin{array}{cccc}\n",
    "   1 & 0 & 0 & 0\\\\\n",
    "   1 & 1 & 0 & 0\\\\\n",
    "   1 & 1 & 1 & 0\\\\\n",
    "   1 & 1 & 1 & 1\\\\\n",
    "  \\end{array}\n",
    "\n",
    "    With the trapezoidal rule we obtain \"better results\" of the transport coefficientes to probe the theorem: \n",
    "\n",
    "    $\\dot{C}(t) = -k_B T M(t) = -k_B ·T·[F^T·\\eta(t)·F - G(t)·F - F^T·H(t) + \\gamma(t)]$\n",
    "    \n",
    "5. Because of the method used in order to build the matrices of correlations (we only compute two blocks of correlations) the components of the bulk will sense the effect of the walls after a certain time. This time can be calculated as a time of diffusion $t$~$L^2/\\nu$ or plotting together the correlation in the middle of the canal compute directly with LAMMPS and the same component of the correlation obtained from the blocks. Plotting the correlation in the middle of the canal ($\\mu=\\nu=30$) calculated from blocks and directly with LAMMPS we obtain that after $t=3$ the curves begin to separate. For $\\mu=30$ and $\\nu=35$ this time is $t=1$."
   ]
  },
  {
   "cell_type": "markdown",
   "metadata": {},
   "source": [
    "# 0. INTRO"
   ]
  },
  {
   "cell_type": "markdown",
   "metadata": {},
   "source": [
    "## 0.1. Packages"
   ]
  },
  {
   "cell_type": "code",
   "execution_count": 2,
   "metadata": {
    "collapsed": true
   },
   "outputs": [],
   "source": [
    "import numpy as np\n",
    "import matplotlib.pyplot as plt\n",
    "from mpl_toolkits.mplot3d import Axes3D\n",
    "from scipy import linalg\n",
    "from scipy.linalg import expm\n",
    "from numpy import linalg as LA\n",
    "from numpy.linalg import inv\n",
    "import scipy.integrate as integrate\n",
    "from IPython.display import Image"
   ]
  },
  {
   "cell_type": "markdown",
   "metadata": {},
   "source": [
    "## 0.2. Plot style"
   ]
  },
  {
   "cell_type": "code",
   "execution_count": 3,
   "metadata": {
    "collapsed": true
   },
   "outputs": [],
   "source": [
    "from matplotlib import rc\n",
    "rc('font',**{'family':'sans-serif','sans-serif':['Helvetica']})\n",
    "rc('text', usetex=True)\n",
    "#Uncomment to interact with the plots\n",
    "#import mpld3\n",
    "#mpld3.enable_notebook()"
   ]
  },
  {
   "cell_type": "markdown",
   "metadata": {},
   "source": [
    "## 0.3. Load files"
   ]
  },
  {
   "cell_type": "code",
   "execution_count": 3,
   "metadata": {},
   "outputs": [],
   "source": [
    "#Ct = np.loadtxt('Ct-WALLS-500steps.dat')\n",
    "Ct = np.loadtxt('Ct-WALLS-66nodes.dat')"
   ]
  },
  {
   "cell_type": "markdown",
   "metadata": {},
   "source": [
    "## 0.4. Parameters"
   ]
  },
  {
   "cell_type": "code",
   "execution_count": null,
   "metadata": {
    "collapsed": true
   },
   "outputs": [],
   "source": [
    "Lx, Ly, Lz  = 40.0, 40.0, 33.0\n",
    "nNodes      = 66\n",
    "dz          = Lz / nNodes\n",
    "nNodesFluid = 61                      \n",
    "nSteps      = np.shape(Ct)[0]\n",
    "nCols       = np.shape(Ct)[1]\n",
    "dt          = 0.004\n",
    "tol         = 1e-3\n",
    "nBlocks     = 1                                                            \n",
    "nVar        = int(np.sqrt(nBlocks))                      \n",
    "dim         = nVar * nNodes \n",
    "Temp        = 2.0\n",
    "B           = (1 / dz) * ((np.eye(nNodes)) - np.eye(nNodes, nNodes, -1))\n",
    "F           = B.T\n",
    "FInv        = inv(F)\n",
    "Laplacian   = (1 / dz**2) * (-2 * (np.eye(nNodes)) +\\\n",
    "             np.eye(nNodes, nNodes, -nNodes+1) + np.eye(nNodes, nNodes, nNodes-1) +\\\n",
    "             np.eye(nNodes, nNodes, -1) + np.eye(nNodes, nNodes, 1))\n",
    "tau         = 0.25"
   ]
  },
  {
   "cell_type": "markdown",
   "metadata": {},
   "source": [
    "## 0.5. Subroutines"
   ]
  },
  {
   "cell_type": "code",
   "execution_count": null,
   "metadata": {
    "collapsed": true
   },
   "outputs": [],
   "source": [
    "#Reshape from vector to matrix\n",
    "def reshape_vm(A):\n",
    "    B = A.reshape(nBlocks,nNodes*nNodes).reshape(nVar,nVar,nNodes,nNodes).transpose(0,2,1,3).reshape(dim,dim)\n",
    "    return B\n",
    "\n",
    "#Reshape from matrix to vector\n",
    "def reshape_mv(A):\n",
    "    B = A.reshape(nVar,nNodes,nVar,nNodes).swapaxes(1,2).ravel()\n",
    "    return B\n",
    "\n",
    "#Select the step to which a certain time corresponds\n",
    "def step(t):\n",
    "    step = int(round(t/dt))\n",
    "    return step   \n",
    "\n",
    "#Select the column to which the autocorrelation of a selected node corresponds\n",
    "def col(nodeSelected):\n",
    "    column = (nodeSelected - 1) * nNodes + nodeSelected - 1\n",
    "    return column\n",
    "\n",
    "#Replace all values in a matrix < cutOff with zero\n",
    "def cutOff(A, cutOffValue):\n",
    "    rows, cols =  np.shape(A)\n",
    "    B = np.zeros((rows, cols))\n",
    "    for i in range(rows):\n",
    "        for j in range(cols):\n",
    "            if abs(A[i,j]) > cutOffValue:\n",
    "                B[i,j] = A[i,j]\n",
    "            #if A[i,j] > cutOffValue:\n",
    "             #   B[i,j] = A[i,j]\n",
    "    return B\n",
    "\n",
    "#Replace all values in a matrix equal to zero with NaN \n",
    "def zeroToNan(A):\n",
    "    rows, cols =  np.shape(A)\n",
    "    for i in range(rows):\n",
    "        for j in range(cols):\n",
    "            if A[i,j] == 0:\n",
    "                A[i,j] = np.nan\n",
    "    return A\n",
    "\n",
    "#Derivative and integral operators. The derivative is in compliance with the Barrow rule.\n",
    "ODev      = np.identity(nSteps) - np.eye(nSteps, nSteps, -1) \n",
    "OInt      = np.tril(np.ones((nSteps, nSteps), dtype=float), 0) \n",
    "ODev[0,0] = 0\n",
    "ODev /= dt\n",
    "OInt *= dt"
   ]
  },
  {
   "cell_type": "markdown",
   "metadata": {},
   "source": [
    "## 0.6. Convert $C(t)$ into an array of 3 dimensions"
   ]
  },
  {
   "cell_type": "code",
   "execution_count": null,
   "metadata": {
    "collapsed": true
   },
   "outputs": [],
   "source": [
    "Ct3D = np.zeros((nNodes, nNodes, nSteps))\n",
    "for k in range(nSteps):\n",
    "    Ct3D[:,:,k] = reshape_vm(Ct[k,:])   \n",
    "Ct = Ct3D\n",
    "\n",
    "C0 = Ct[:,:,0]\n",
    "R  = linalg.pinv(C0, rcond = tol)"
   ]
  },
  {
   "cell_type": "markdown",
   "metadata": {},
   "source": [
    "#### Save files"
   ]
  },
  {
   "cell_type": "raw",
   "metadata": {
    "collapsed": true
   },
   "source": [
    "np.savetxt('../../filesGNUPLOT/C-t0.0-66nodes-WALLS.dat', Ct[:,:,step(0.0)])\n",
    "np.savetxt('../../filesGNUPLOT/C-t0.2-66nodes-WALLS.dat', Ct[:,:,step(0.2)])\n",
    "np.savetxt('../../filesGNUPLOT/C-t0.5-66nodes-WALLS.dat', Ct[:,:,step(0.5)])\n",
    "np.savetxt('../../filesGNUPLOT/C-t1.0-66nodes-WALLS.dat', Ct[:,:,step(1.0)])"
   ]
  },
  {
   "cell_type": "markdown",
   "metadata": {},
   "source": [
    "# 1. REAL SPACE"
   ]
  },
  {
   "cell_type": "markdown",
   "metadata": {},
   "source": [
    "## 1.1. Compute $\\dot{C}_{\\mu\\nu}(t)$, $C^{-1}_{\\mu\\nu}(t)$ and $\\Lambda_{\\mu\\nu}(t)$"
   ]
  },
  {
   "cell_type": "code",
   "execution_count": null,
   "metadata": {
    "collapsed": true
   },
   "outputs": [],
   "source": [
    "CtDev    = np.zeros((nNodes, nNodes, nSteps))\n",
    "CtInv    = np.zeros((nNodes, nNodes, nSteps))\n",
    "Lambdat  = np.zeros((nNodes, nNodes, nSteps))\n",
    "\n",
    "for i in range(nNodes):\n",
    "    CtDev[i,:,:] = ODev.dot(Ct[i,:,:].T).T\n",
    "    \n",
    "for k in range(nSteps):\n",
    "    CtInv[:,:,k]    = linalg.pinv(Ct[:,:,k], rcond = tol)\n",
    "    Lambdat[:,:,k]  = - CtDev[:,:,k].dot(CtInv[:,:,k])"
   ]
  },
  {
   "cell_type": "code",
   "execution_count": null,
   "metadata": {
    "collapsed": true
   },
   "outputs": [],
   "source": [
    "x = range(nNodes)\n",
    "y = range(nNodes)\n",
    "\n",
    "f  = plt.figure(figsize=(15,20))\n",
    "p = 1\n",
    "for t in np.arange(0, 0.3, 0.05):\n",
    "    h = f.add_subplot(3,2,p, projection='3d')\n",
    "    X, Y = np.meshgrid(x, y) \n",
    "    h.plot_wireframe(X, Y, Ct[:,:,step(t)])\n",
    "    h.set_zlim(0,9e-4)\n",
    "    h.set_title('C('+str(t)+')',fontsize=18)\n",
    "    h.set_xlabel(r'$\\mu$',fontsize=18)\n",
    "    h.set_ylabel(r'$\\nu$',fontsize=18)\n",
    "    #h.view_init(20, 190)\n",
    "    p += 1\n",
    "plt.show()"
   ]
  },
  {
   "cell_type": "code",
   "execution_count": null,
   "metadata": {
    "collapsed": true,
    "scrolled": true
   },
   "outputs": [],
   "source": [
    "x  = np.arange(0, nSteps * dt, dt)\n",
    "\n",
    "plt.figure(1, figsize=(10,10))\n",
    "\n",
    "plt.subplot(221)\n",
    "plt.plot(x, Ct[29, 29, :], label = r'$\\mu=$'+str(30)+r', $\\nu=$'+str(30))\n",
    "plt.plot(x, Ct[29, 32, :], label = r'$\\mu=$'+str(30)+r', $\\nu=$'+str(33))\n",
    "plt.plot(x, Ct[2, 2, :], label = r'$\\mu=$'+str(3)+r', $\\nu=$'+str(3))\n",
    "plt.plot(x, Ct[3, 3, :], label = r'$\\mu=$'+str(4)+r', $\\nu=$'+str(4))\n",
    "plt.plot(x, Ct[4, 4, :], label = r'$\\mu=$'+str(5)+r', $\\nu=$'+str(5))\n",
    "plt.ylim(-1e-10,1e-10)\n",
    "plt.xlim(0,2)\n",
    "plt.title(r'$C_{\\mu \\nu}(t)$',fontsize=18)\n",
    "plt.xlabel('t')\n",
    "plt.legend(loc='upper right',fontsize=18)\n",
    "\n",
    "\n",
    "plt.subplot(222)\n",
    "plt.plot(x, CtDev[29, 29, :], label = r'$\\mu=$'+str(30)+r', $\\nu=$'+str(30))\n",
    "plt.plot(x, CtDev[29, 32, :], label = r'$\\mu=$'+str(30)+r', $\\nu=$'+str(33))\n",
    "plt.plot(x, CtDev[3, 3, :], label = r'$\\mu=$'+str(4)+r', $\\nu=$'+str(4))\n",
    "plt.xlim(0,2)\n",
    "plt.title(r'$\\dot{C}_{\\mu \\nu}(t)$',fontsize=18)\n",
    "plt.xlabel('t')\n",
    "plt.legend(loc='upper right',fontsize=18)\n",
    "\n",
    "\n",
    "plt.subplot(223)\n",
    "plt.plot(x, CtInv[29, 29, :], label = r'$\\mu=$'+str(30)+r', $\\nu=$'+str(30))\n",
    "plt.plot(x, CtInv[29, 32, :], label = r'$\\mu=$'+str(30)+r', $\\nu=$'+str(33))\n",
    "plt.plot(x, CtInv[3, 3, :], label = r'$\\mu=$'+str(4)+r', $\\nu=$'+str(4))\n",
    "plt.xlim(0,2)\n",
    "plt.title(r'$C_{\\mu \\nu}^{-1}(t)$',fontsize=18)\n",
    "plt.xlabel('t')\n",
    "plt.legend(loc='upper right',fontsize=18)\n",
    "\n",
    "\n",
    "plt.subplot(224)\n",
    "plt.plot(x, Lambdat[29, 29, :], label = r'$\\mu=$'+str(30)+r', $\\nu=$'+str(30))\n",
    "plt.plot(x, Lambdat[29, 32, :], label = r'$\\mu=$'+str(30)+r', $\\nu=$'+str(33))\n",
    "plt.plot(x, Lambdat[3, 3, :], label = r'$\\mu=$'+str(4)+r', $\\nu=$'+str(4))\n",
    "plt.xlim(0,2)\n",
    "plt.ylim(-50,50)\n",
    "plt.title(r'$\\Lambda_{\\mu \\nu}(t)$',fontsize=18)\n",
    "plt.xlabel('t')\n",
    "plt.legend(loc='upper right',fontsize=18)\n",
    "plt.show()"
   ]
  },
  {
   "cell_type": "markdown",
   "metadata": {},
   "source": [
    "We will see in the next section why $C^{-1}(t)$ blows up at t=0.12. In the reciprocal space there are two modes that cross the zero at t=0.12. We thought that this \"weird\" behaviour was due to numerical errors but then we realized that they contain physical information about the density (layering). "
   ]
  },
  {
   "cell_type": "markdown",
   "metadata": {},
   "source": [
    "## Delete solid (and negligible) nodes"
   ]
  },
  {
   "cell_type": "code",
   "execution_count": null,
   "metadata": {
    "collapsed": true
   },
   "outputs": [],
   "source": [
    "CtNew = np.zeros((nNodesFluid-2, nNodesFluid-2, nSteps))\n",
    "\n",
    "for k in range(nSteps):\n",
    "    CtNew[:,:,k] = Ct3D[3:nNodes-4, 3:nNodes-4, k]\n",
    "Ct = CtNew"
   ]
  },
  {
   "cell_type": "code",
   "execution_count": null,
   "metadata": {
    "collapsed": true
   },
   "outputs": [],
   "source": [
    "nNodes     = 59\n",
    "nCols      = np.shape(Ct)[1]                  \n",
    "dim        = nVar * nNodes \n",
    "B          = (1 / dz) * ((np.eye(nNodes)) - np.eye(nNodes, nNodes, -1))\n",
    "F          = B.T\n",
    "FInv       = inv(F)\n",
    "Laplacian  = (1 / dz**2) * (-2 * (np.eye(nNodes)) +\\\n",
    "             np.eye(nNodes, nNodes, -nNodes+1) + np.eye(nNodes, nNodes, nNodes-1) +\\\n",
    "             np.eye(nNodes, nNodes, -1) + np.eye(nNodes, nNodes, 1))\n",
    "C0         = Ct[:,:,0]\n",
    "R          = linalg.pinv(C0, rcond = tol)"
   ]
  },
  {
   "cell_type": "code",
   "execution_count": null,
   "metadata": {
    "collapsed": true
   },
   "outputs": [],
   "source": [
    "CtDev    = np.zeros((nNodes, nNodes, nSteps))\n",
    "CtInv    = np.zeros((nNodes, nNodes, nSteps))\n",
    "Lambdat  = np.zeros((nNodes, nNodes, nSteps))\n",
    "\n",
    "for i in range(nNodes):\n",
    "    CtDev[i,:,:] = ODev.dot(Ct[i,:,:].T).T\n",
    "    \n",
    "for k in range(nSteps):\n",
    "    CtInv[:,:,k]    = linalg.pinv(Ct[:,:,k], rcond = tol)\n",
    "    Lambdat[:,:,k]  = - CtDev[:,:,k].dot(CtInv[:,:,k])"
   ]
  },
  {
   "cell_type": "markdown",
   "metadata": {},
   "source": [
    "# 2. RECIPROCAL SPACE\n",
    "Because of the translational invariance, in PBC we can take the Fourier Transform of the matrices in order to diagonalized them. This property is broken when the system consisting on a fluid in contact with solid slabs. Therefore, we need to obtain the basis, $E$, which diagonalized the matrices when the system is not periodic. \n",
    "\n",
    "The ideal basis would be the one which diagonalizes $\\Lambda(t)$ at each time step, but $\\Lambda(t)$ is a function of $C^{-1}(t)$ (blows up at $t=0.12$). \n",
    "\n",
    "The route followed is to compute the basis of eigenvectors of $C(t)$ at each time step, $E(t)$. We also compute the basis at t=0.15, $E(0.15)$ and t=0.30, $E(0.30)$, to prove that $E$ has a *plateau* (we will show that $\\tilde{\\Lambda}(t)$ is very similar computed in the three basis). "
   ]
  },
  {
   "cell_type": "markdown",
   "metadata": {},
   "source": [
    "## 2.1. Compute $\\tilde{C}(t)$, $\\tilde{\\dot{C}}(t)$, $\\tilde{C}^{-1}(t)$ and $\\tilde{\\Lambda}(t)$ with $E(t)$, $E(0.15)$, $E(0.30)$ "
   ]
  },
  {
   "cell_type": "code",
   "execution_count": null,
   "metadata": {
    "collapsed": true
   },
   "outputs": [],
   "source": [
    "#Compute and sort eigenvalues and eigenvectors of C at t=0.15 and t=0.30 \n",
    "w015, v015 = LA.eig(Ct[:,:,step(0.15)])\n",
    "idx        = w015.argsort()[::-1]   \n",
    "w015       = w015[idx]\n",
    "v015       = v015[:,idx]\n",
    "w030, v030 = LA.eig(Ct[:,:,step(0.30)])\n",
    "idx        = w030.argsort()[::-1]   \n",
    "w030       = w030[idx] \n",
    "v030       = v030[:,idx]\n",
    "\n",
    "CtRec         = np.zeros((nNodes, nNodes, nSteps))\n",
    "CtDevRec      = np.zeros((nNodes, nNodes, nSteps))\n",
    "CtInvRec      = np.zeros((nNodes, nNodes, nSteps))\n",
    "LambdatRec    = np.zeros((nNodes, nNodes, nSteps))\n",
    "LambdatRec015 = np.zeros((nNodes, nNodes, nSteps))\n",
    "LambdatRec030 = np.zeros((nNodes, nNodes, nSteps))\n",
    "vt            = np.zeros((nNodes, nNodes, nSteps))\n",
    "wt            = np.zeros((nSteps, nNodes))\n",
    "for k in range(nSteps):\n",
    "    #Compute and sort eigenvalues and eigenvector of C(t) at each time step\n",
    "    w, v      = LA.eig((Ct[:,:,k]))\n",
    "    idx       = w.argsort()[::-1]   \n",
    "    w         = w[idx]\n",
    "    v         = v[:,idx]\n",
    "    wt[k,:]   = w\n",
    "    vt[:,:,k] = v\n",
    "    #Compute C(t), CDev(t), CInv(t) and Lambda(t) in the reciprocal space of C(t)\n",
    "    CtRec[:,:,k]      = inv(v).dot(Ct[:,:,k]).dot(v)\n",
    "    CtDevRec[:,:,k]   = inv(v).dot(CtDev[:,:,k]).dot(v)\n",
    "    CtInvRec[:,:,k]   = inv(v).dot(CtInv[:,:,k]).dot(v)\n",
    "    LambdatRec[:,:,k] = inv(v).dot(Lambdat[:,:,k]).dot(v)\n",
    "    #Lambda(t) in the reciprocal space of C(0.15) and C(0.30)\n",
    "    LambdatRec015[:,:,k] = inv(v015).dot(Lambdat[:,:,k]).dot(v015)\n",
    "    LambdatRec030[:,:,k] = inv(v030).dot(Lambdat[:,:,k]).dot(v030)"
   ]
  },
  {
   "cell_type": "markdown",
   "metadata": {},
   "source": [
    "### 2.1.1. The *plateau* of $E(t)$\n",
    "We show the matrix $\\tilde{\\Lambda}(t)$ calculated with three basis of eigenvectors. The plot allows us to infer that we may choose the basis of eigenvector in each time, $E(t)$, because it seems time-independent"
   ]
  },
  {
   "cell_type": "code",
   "execution_count": null,
   "metadata": {
    "collapsed": true
   },
   "outputs": [],
   "source": [
    "for i in range(15):\n",
    "    plt.plot(x, LambdatRec[i,i,:], 'r')\n",
    "    plt.plot(x, LambdatRec015[i,i,:], ':b')\n",
    "    plt.plot(x, LambdatRec030[i,i,:], ':g')\n",
    "plt.title(r'$\\tilde{\\Lambda}_{\\mu\\mu}(t)$',fontsize=18)\n",
    "plt.xlabel('t',fontsize=18)\n",
    "plt.xlim(0,2)\n",
    "plt.show()"
   ]
  },
  {
   "cell_type": "markdown",
   "metadata": {},
   "source": [
    "#### Save files"
   ]
  },
  {
   "cell_type": "raw",
   "metadata": {},
   "source": [
    "A=[]\n",
    "for i in range(15):\n",
    "    A.append(LambdatRec[i,i,:])\n",
    "A = np.array(A)\n",
    "np.savetxt('../../filesGNUPLOT/Lambdat-Reciprocalt-WALLS.dat', A.T)\n",
    "A=[]\n",
    "for i in range(15):\n",
    "    A.append(LambdatRec015[i,i,:])\n",
    "A = np.array(A)\n",
    "np.savetxt('../../filesGNUPLOT/Lambdat-Reciprocalt0.15-WALLS.dat', A.T)\n",
    "A=[]\n",
    "for i in range(15):\n",
    "    A.append(LambdatRec030[i,i,:])\n",
    "A = np.array(A)\n",
    "np.savetxt('../../filesGNUPLOT/Lambdat-Reciprocalt0.30-WALLS.dat', A.T)"
   ]
  },
  {
   "cell_type": "markdown",
   "metadata": {},
   "source": [
    "### 2.1.2. Plot eigenvectors and eigenvalues"
   ]
  },
  {
   "cell_type": "code",
   "execution_count": null,
   "metadata": {
    "collapsed": true
   },
   "outputs": [],
   "source": [
    "x = np.arange(0, nSteps*dt, dt)\n",
    "\n",
    "for i in range(nNodes):\n",
    "    plt.plot(vt[:,i,step(0.12)], label=str(i+1))\n",
    "plt.title('Eigenvectors',fontsize=18)\n",
    "plt.show()\n",
    "\n",
    "for i in range(nNodes):\n",
    "    plt.plot(x, wt[:,i], label=str(i+1))\n",
    "plt.title('Eigenvalues',fontsize=18)\n",
    "plt.axvline(x=0.12, color='k', linestyle='--', label='t=0.12')\n",
    "plt.show()"
   ]
  },
  {
   "cell_type": "markdown",
   "metadata": {},
   "source": [
    "Note that there are some modes which in $t=0.12$ cross $y=0$. This modes look like the density profile. Therefore, **we can not remove these modes because they contain relevant information.**"
   ]
  },
  {
   "cell_type": "code",
   "execution_count": null,
   "metadata": {
    "collapsed": true
   },
   "outputs": [],
   "source": [
    "x = np.arange(0, nSteps*dt, dt)\n",
    "\n",
    "for i in np.arange(57, nNodes,1):\n",
    "    plt.plot(vt[:,i,step(0.12)], label=str(i+1))\n",
    "plt.title('Eigenvectors',fontsize=18)\n",
    "plt.legend(loc='upper right',fontsize=18)\n",
    "plt.show()\n",
    "\n",
    "for i in np.arange(57, nNodes,1):\n",
    "    plt.plot(x, wt[:,i], label=str(i+1))\n",
    "plt.title('Eigenvalues',fontsize=18)\n",
    "plt.axvline(x=0.12, color='k', linestyle='--', label='t=0.12')\n",
    "plt.axhline(y=0, color='k', linestyle='--', label='y=0')\n",
    "plt.legend(loc='upper right',fontsize=18)\n",
    "plt.show()"
   ]
  },
  {
   "cell_type": "markdown",
   "metadata": {},
   "source": [
    "####  Save files"
   ]
  },
  {
   "cell_type": "raw",
   "metadata": {
    "collapsed": true
   },
   "source": [
    "#Save all eigenvalues\n",
    "A = []\n",
    "for i in range(nNodes):\n",
    "    A.append(wt[:,i])\n",
    "A = np.array(A)\n",
    "np.savetxt('../../filesGNUPLOT/EigenvaluesCt-WALLS-66nodes.dat',A.T)\n",
    "#Save eigenvectors\n",
    "A = []\n",
    "for i in range(nNodes):\n",
    "    A.append(vt[:,i,step(0.12)])\n",
    "A = np.array(A)\n",
    "np.savetxt('../../filesGNUPLOT/EigenvectorsCt-WALLS-66nodes.dat',A.T)"
   ]
  },
  {
   "cell_type": "markdown",
   "metadata": {},
   "source": [
    "## 2.2. Chop $\\tilde{C}(t)$ $\\to$ $\\bar{\\tilde{C}}(t)$\n",
    "\n",
    "Convert to zero all values of $\\tilde{C}(t)$ smaller than a cut-off value."
   ]
  },
  {
   "cell_type": "markdown",
   "metadata": {},
   "source": [
    "Convert to zero all values of $\\tilde{C}(t)$ smaller than a cut-off value."
   ]
  },
  {
   "cell_type": "code",
   "execution_count": null,
   "metadata": {
    "collapsed": true
   },
   "outputs": [],
   "source": [
    "cutOffValue = 2e-5\n",
    "\n",
    "CtRecChop       = np.zeros((nNodes, nNodes, nSteps))\n",
    "CtDevRecChop    = np.zeros((nNodes, nNodes, nSteps))\n",
    "CtInvRecChop    = np.zeros((nNodes, nNodes, nSteps))\n",
    "LambdatRecChop  = np.zeros((nNodes, nNodes, nSteps))\n",
    "\n",
    "for k in range(nSteps):\n",
    "    CtRecChop[:,:,k] = cutOff((CtRec[:,:,k]), cutOffValue)\n",
    "\n",
    "for i in range(nNodes):\n",
    "    CtDevRecChop[i,:,:] = ODev.dot(CtRecChop[i,:,:].T).T\n",
    "\n",
    "for k in range(nSteps):\n",
    "    CtInvRecChop[:,:,k]    = linalg.pinv(CtRecChop[:,:,k], rcond = tol)\n",
    "    LambdatRecChop[:,:,k]  = - CtDevRecChop[:,:,k].dot(CtInvRecChop[:,:,k])\n",
    "\n",
    "#Convert zeros to NaN's \n",
    "for k in range(nSteps):\n",
    "    CtRecChop[:,:,k]       = zeroToNan(CtRecChop[:,:,k])\n",
    "    CtDevRecChop[:,:,k]    = zeroToNan(CtDevRecChop[:,:,k])\n",
    "    CtInvRecChop[:,:,k]    = zeroToNan(CtInvRecChop[:,:,k])\n",
    "    LambdatRecChop[:,:,k]  = zeroToNan(LambdatRecChop[:,:,k])"
   ]
  },
  {
   "cell_type": "code",
   "execution_count": null,
   "metadata": {
    "collapsed": true,
    "scrolled": true
   },
   "outputs": [],
   "source": [
    "x = np.arange(0, nSteps * dt, dt)\n",
    "\n",
    "plt.figure(1, figsize=(10,10))\n",
    "\n",
    "plt.subplot(221)\n",
    "for i in range(nNodes):\n",
    "    plt.plot(x, CtRec[i,i,:])\n",
    "    plt.plot(x, np.ones(nSteps) * cutOffValue, 'k')\n",
    "plt.title(r'$\\tilde{C}_{\\mu\\mu}(t)$',fontsize=25)\n",
    "plt.xlabel('t',fontsize=18)\n",
    "plt.xlim(0,2)\n",
    "plt.legend(loc='upper right',fontsize=18)\n",
    "#plt.ylim(0,)\n",
    "\n",
    "plt.subplot(222)\n",
    "for i in range(nNodes):\n",
    "    plt.plot(x, CtRecChop[i,i,:])\n",
    "plt.title(r'$\\bar{\\tilde{C}}_{\\mu\\mu}(t)$',fontsize=25)\n",
    "plt.xlabel('t',fontsize=18)\n",
    "plt.xlim(0,2)\n",
    "#plt.ylim(0,)\n",
    "\n",
    "plt.subplot(223)\n",
    "for i in range(nNodes):\n",
    "    plt.plot(x, LambdatRec[i,i,:])\n",
    "plt.title(r'$\\tilde{\\Lambda}_{\\mu\\mu}(t)$',fontsize=25)\n",
    "plt.xlabel('t',fontsize=18)\n",
    "plt.xlim(0,2)\n",
    "plt.ylim(0,30)\n",
    "\n",
    "plt.subplot(224)\n",
    "for i in range(nNodes):\n",
    "    plt.plot(x, LambdatRecChop[i,i,:])\n",
    "plt.title(r'$\\bar{\\tilde{\\Lambda}}_{\\mu\\mu}(t)$',fontsize=25)\n",
    "plt.xlabel('t',fontsize=18)\n",
    "plt.xlim(0,2)\n",
    "plt.ylim(0,30)\n",
    "\n",
    "plt.tight_layout() #Improve spacing between subplots\n",
    "plt.show()"
   ]
  },
  {
   "cell_type": "markdown",
   "metadata": {},
   "source": [
    "#### Save files "
   ]
  },
  {
   "cell_type": "raw",
   "metadata": {
    "collapsed": true
   },
   "source": [
    "A = []\n",
    "for i in range(nNodes):\n",
    "    A.append(LambdatRecChop[i,i,:])\n",
    "A = np.array(A)\n",
    "np.savetxt('../../filesGNUPLOT/LambdatRec-WALLS-66nodes.dat', A.T)\n",
    "np.savetxt('../../filesGNUPLOT/Lambdat-Reciprocal-WALLS-66nodes.dat', A.T)"
   ]
  },
  {
   "cell_type": "markdown",
   "metadata": {},
   "source": [
    "# 3. PREDICTIONS \n",
    "\n",
    "From the figures we may considerer that $\\tilde{\\Lambda}(t)$ has a plateau. We select $\\tau=0.25$ as the best compromise satisfaying that $\\Lambda(t)$ has attained its constant value. Therefore \n",
    "\n",
    "$C^{predict}(t) = exp[-\\Lambda(\\tau)·(t-\\tau)]C(\\tau)$ "
   ]
  },
  {
   "cell_type": "markdown",
   "metadata": {},
   "source": [
    "## 3.1. Compute predictions"
   ]
  },
  {
   "cell_type": "code",
   "execution_count": null,
   "metadata": {
    "collapsed": true
   },
   "outputs": [],
   "source": [
    "CtPredict = np.zeros((nNodes, nNodes, nSteps))\n",
    "for k in range(nSteps):\n",
    "    t = k * dt\n",
    "    CtPredict[:,:,k] = expm(- Lambdat[:,:,step(tau)] * (t - tau)).dot(Ct[:,:,step(tau)])"
   ]
  },
  {
   "cell_type": "markdown",
   "metadata": {},
   "source": [
    "Note that the predictions are computed with the matrix of correlations obtained from the two blocks of correlations. This implies that the correlations in the bulk are influenced by the effect of the wall after a certain time. Therefore, if we want to know if the predictions fit the original correlations we must to obtain the correlations directly with LAMMPS.\n",
    "\n",
    "Moreover, the predictions at $t=\\tau$ do not need to match with $C(\\tau)$. We have checked that the difference increases according to the distance from the diagonal (obviously)."
   ]
  },
  {
   "cell_type": "markdown",
   "metadata": {},
   "source": [
    "#### Save files"
   ]
  },
  {
   "cell_type": "raw",
   "metadata": {},
   "source": [
    "#This files are computed when the matrix C(t) has not been cleaned of zeros and negligible rows/columns. I only use them to show in the paper that the predictions does not fit the original correlations near the walls because of the non-markovian behaviour of these nodes. \n",
    "np.savetxt('../../filesGNUPLOT/Ct-mu3nu3-WALLS-66nodes.dat', Ct[2,2,:])\n",
    "np.savetxt('../../filesGNUPLOT/CtPredict-mu3nu3-WALLS-66nodes.dat',   CtPredict[2,2,:])\n",
    "np.savetxt('../../filesGNUPLOT/Ct-mu4nu4-WALLS-66nodes.dat', Ct[3,3,:])\n",
    "np.savetxt('../../filesGNUPLOT/CtPredict-mu4nu4-WALLS-66nodes.dat',   CtPredict[3,3,:])"
   ]
  },
  {
   "cell_type": "markdown",
   "metadata": {},
   "source": [
    "## 3.2. Plot $C(t)$ and the predictions"
   ]
  },
  {
   "cell_type": "code",
   "execution_count": 20,
   "metadata": {},
   "outputs": [
    {
     "data": {
      "image/png": "[encoded data removed]",
      "text/plain": [
       "<matplotlib.figure.Figure at 0x7f9f06eb3e90>"
      ]
     },
     "metadata": {},
     "output_type": "display_data"
    }
   ],
   "source": [
    "x = np.arange(0, nSteps * dt, dt)\n",
    "plt.figure(1, figsize=(20,55))\n",
    "\n",
    "plt.subplot(5,2,1)\n",
    "plt.plot(x, Ct[29,31,:], label='$C$')\n",
    "plt.plot(x, CtPredict[29,31,:], label=r'$C^{pred}$')\n",
    "plt.title(r'$\\mu$=33, $\\nu$=34',fontsize=25)\n",
    "plt.xlabel('t',fontsize=25)\n",
    "plt.legend(loc='upper right',fontsize=25)\n",
    "\n",
    "plt.subplot(5,2,2)\n",
    "plt.loglog(x, Ct[29,31,:], label='$C$')\n",
    "plt.loglog(x, CtPredict[29,31,:], label=r'$C^{pred}$')\n",
    "plt.title(r'$\\mu$=33, $\\nu$=34',fontsize=25)\n",
    "plt.xlabel('t',fontsize=25)\n",
    "plt.legend(loc='upper right',fontsize=25)\n",
    "\n",
    "plt.subplot(5,2,3)\n",
    "plt.plot(x, Ct[29,32,:], label='$C$')\n",
    "plt.plot(x, CtPredict[29,32,:], label=r'$C^{pred}$')\n",
    "plt.title(r'$\\mu$=33, $\\nu$=35',fontsize=25)\n",
    "plt.xlabel('t',fontsize=25)\n",
    "plt.legend(loc='upper right',fontsize=25)\n",
    "\n",
    "plt.subplot(5,2,4)\n",
    "plt.loglog(x, Ct[29,32,:], label='$C$')\n",
    "plt.loglog(x, CtPredict[29,32,:], label=r'$C^{pred}$')\n",
    "plt.title(r'$\\mu$=33, $\\nu$=35',fontsize=25)\n",
    "plt.xlabel('t',fontsize=25)\n",
    "plt.legend(loc='upper right',fontsize=25)\n",
    "\n",
    "plt.subplot(5,2,5)\n",
    "plt.plot(x, Ct[10,12,:], label='$C$')\n",
    "plt.plot(x, CtPredict[10,12,:], label=r'$C^{pred}$')\n",
    "plt.title(r'$\\mu$=14, $\\nu$=16',fontsize=25)\n",
    "plt.xlabel('t',fontsize=25)\n",
    "plt.legend(loc='upper right',fontsize=25)\n",
    "\n",
    "plt.subplot(5,2,6)\n",
    "plt.loglog(x, Ct[10,12,:], label='$C$')\n",
    "plt.loglog(x, CtPredict[10,12,:], label=r'$C^{pred}$')\n",
    "plt.title(r'$\\mu$=14, $\\nu$=16',fontsize=25)\n",
    "plt.xlabel('t',fontsize=25)\n",
    "plt.legend(loc='upper right',fontsize=25)\n",
    "\n",
    "plt.subplot(5,2,7)\n",
    "plt.plot(x, Ct[0,0,:], label='$C$')\n",
    "plt.plot(x, CtPredict[0,0,:], label=r'$C^{pred}$')\n",
    "plt.title(r'$\\mu$=4, $\\nu$=4',fontsize=25)\n",
    "plt.xlabel('t',fontsize=25)\n",
    "plt.legend(loc='upper right',fontsize=25)\n",
    "\n",
    "plt.subplot(5,2,8)\n",
    "plt.loglog(x, Ct[0,0,:], label='$C$')\n",
    "plt.loglog(x, CtPredict[0,0,:], label=r'$C^{pred}$')\n",
    "plt.title(r'$\\mu$=4, $\\nu$=4',fontsize=25)\n",
    "plt.xlabel('t',fontsize=25)\n",
    "plt.legend(loc='upper right',fontsize=25)\n",
    "\n",
    "plt.subplot(5,2,9)\n",
    "plt.plot(x, Ct[1,1,:], label='$C$')\n",
    "plt.plot(x, CtPredict[1,1,:], label=r'$C^{pred}$')\n",
    "plt.title(r'$\\mu$=5, $\\nu$=5',fontsize=25)\n",
    "plt.xlabel('t',fontsize=25)\n",
    "plt.legend(loc='upper right',fontsize=25)\n",
    "\n",
    "plt.subplot(5,2,10)\n",
    "plt.loglog(x, Ct[1,1,:], label='$C$')\n",
    "plt.loglog(x, CtPredict[1,1,:], label=r'$C^{pred}$')\n",
    "plt.title(r'$\\mu$=5, $\\nu$=5',fontsize=25)\n",
    "plt.xlabel('t',fontsize=25)\n",
    "plt.legend(loc='upper right',fontsize=25)\n",
    "\n",
    "plt.show()"
   ]
  },
  {
   "cell_type": "markdown",
   "metadata": {},
   "source": [
    "#### Save files"
   ]
  },
  {
   "cell_type": "raw",
   "metadata": {},
   "source": [
    "np.savetxt('../../filesGNUPLOT/Ct-mu5nu5-WALLS-66nodes.dat',   Ct[1,1,:])\n",
    "np.savetxt('../../filesGNUPLOT/Ct-mu5nu7-WALLS-66nodes.dat',   Ct[1,3,:])\n",
    "np.savetxt('../../filesGNUPLOT/Ct-mu15nu15-WALLS-66nodes.dat', Ct[11,11,:])\n",
    "np.savetxt('../../filesGNUPLOT/Ct-mu15nu17-WALLS-66nodes.dat', Ct[11,13,:])\n",
    "\n",
    "np.savetxt('../../filesGNUPLOT/CtPredict-mu5nu5-WALLS-66nodes.dat',   CtPredict[1,1,:])\n",
    "np.savetxt('../../filesGNUPLOT/CtPredict-mu5nu7-WALLS-66nodes.dat',   CtPredict[1,3,:])\n",
    "np.savetxt('../../filesGNUPLOT/CtPredict-mu15nu15-WALLS-66nodes.dat', CtPredict[11,11,:])\n",
    "np.savetxt('../../filesGNUPLOT/CtPredict-mu15nu17-WALLS-66nodes.dat', CtPredict[11,13,:])\n",
    "np.savetxt('../../filesGNUPLOT/CtPredict-mu33nu33-WALLS-66nodes.dat', Ct[37,37,:])   \n",
    "np.savetxt('../../filesGNUPLOT/CtPredict-mu33nu34-WALLS-66nodes.dat', Ct[37,38,:])   "
   ]
  },
  {
   "cell_type": "code",
   "execution_count": null,
   "metadata": {
    "collapsed": true
   },
   "outputs": [],
   "source": []
  },
  {
   "cell_type": "code",
   "execution_count": null,
   "metadata": {
    "collapsed": true
   },
   "outputs": [],
   "source": []
  },
  {
   "cell_type": "code",
   "execution_count": null,
   "metadata": {
    "collapsed": true
   },
   "outputs": [],
   "source": []
  },
  {
   "cell_type": "code",
   "execution_count": null,
   "metadata": {
    "collapsed": true
   },
   "outputs": [],
   "source": []
  },
  {
   "cell_type": "raw",
   "metadata": {},
   "source": [
    "# 4. TRANSPORT KERNELS FROM C(t)\n",
    "\n",
    "We would like to obtain the transport kernels from the matrix of correlations C(t). For this reason we need to validate the following theorem \n",
    "\n",
    "$\\dot{C}(t) = -k_B·T·M(t) = -k_B·T·[B·\\eta(t)·B^T - G(t)·B^T - B^T·H(t) + \\gamma(t)]$ \n",
    "\n",
    "where the transport kernels are calculated with the Green-Kubo formula."
   ]
  },
  {
   "cell_type": "raw",
   "metadata": {},
   "source": [
    "## 4.0. Parameters"
   ]
  },
  {
   "cell_type": "raw",
   "metadata": {
    "collapsed": true
   },
   "source": [
    "nNodes     = 61\n",
    "nBlocks    = 1                                                            \n",
    "nVar       = int(np.sqrt(nBlocks))                      \n",
    "dim        = nVar * nNodes "
   ]
  },
  {
   "cell_type": "raw",
   "metadata": {},
   "source": [
    "## 4.1. Files"
   ]
  },
  {
   "cell_type": "raw",
   "metadata": {
    "collapsed": true
   },
   "source": [
    "Sxzt   = np.loadtxt('SxzSxz-WALLS-500steps.dat') \n",
    "FxSxzt = np.loadtxt('FxSxz-WALLS-500steps.dat')\n",
    "SxzFxt = np.loadtxt('SxzFx-WALLS-500steps.dat') \n",
    "Fxt    = np.loadtxt('FxFx-WALLS-500steps.dat') "
   ]
  },
  {
   "cell_type": "raw",
   "metadata": {},
   "source": [
    "## 4.2. Compute transport coefficients: $\\eta_{\\mu\\nu}(t)$, $G_{\\mu\\nu}(t)$, $H_{\\mu\\nu}(t)$ and $\\gamma_{\\mu\\nu}(t)$ "
   ]
  },
  {
   "cell_type": "raw",
   "metadata": {
    "collapsed": true
   },
   "source": [
    "Etat   = (1 / Temp) * integrate.cumtrapz(Sxzt,   dx = dt, axis = 0, initial = 0)\n",
    "Gt     = (1 / Temp) * integrate.cumtrapz(FxSxzt, dx = dt, axis = 0, initial = 0)\n",
    "Ht     = (1 / Temp) * integrate.cumtrapz(SxzFxt, dx = dt, axis = 0, initial = 0)\n",
    "Gammat = (1 / Temp) * integrate.cumtrapz(Fxt,    dx = dt, axis = 0, initial = 0)"
   ]
  },
  {
   "cell_type": "raw",
   "metadata": {},
   "source": [
    "### 4.2.1. Convert each correlation file and transport coefficient into an array of 3 dimensions"
   ]
  },
  {
   "cell_type": "raw",
   "metadata": {
    "collapsed": true
   },
   "source": [
    "Sxzt3D   = np.zeros((nNodes, nNodes, nSteps))\n",
    "FxSxzt3D = np.zeros((nNodes, nNodes, nSteps))\n",
    "SxzFxt3D = np.zeros((nNodes, nNodes, nSteps))\n",
    "Fxt3D    = np.zeros((nNodes, nNodes, nSteps))\n",
    "\n",
    "Etat3D   = np.zeros((nNodes, nNodes, nSteps))\n",
    "Gt3D     = np.zeros((nNodes, nNodes, nSteps))\n",
    "Ht3D     = np.zeros((nNodes, nNodes, nSteps))\n",
    "Gammat3D = np.zeros((nNodes, nNodes, nSteps))\n",
    "\n",
    "for k in range(nSteps):\n",
    "    Sxzt3D[:,:,k]   = reshape_vm(Sxzt[k,:])  \n",
    "    FxSxzt3D[:,:,k] = reshape_vm(FxSxzt[k,:])\n",
    "    SxzFxt3D[:,:,k] = reshape_vm(SxzFxt[k,:])    \n",
    "    Fxt3D[:,:,k]    = reshape_vm(Fxt[k,:]) \n",
    "    \n",
    "    Etat3D[:,:,k]   = reshape_vm(Etat[k,:])  \n",
    "    Gt3D[:,:,k]     = reshape_vm(Gt[k,:])\n",
    "    Ht3D[:,:,k]     = reshape_vm(Ht[k,:])    \n",
    "    Gammat3D[:,:,k] = reshape_vm(Gammat[k,:]) \n",
    "    \n",
    "Sxzt   = Sxzt3D\n",
    "FxSxzt = FxSxzt3D\n",
    "SxzFxt = SxzFxt3D\n",
    "Fxt    = Fxt3D\n",
    "\n",
    "Etat   = Etat3D\n",
    "Gt     = Gt3D\n",
    "Ht     = Ht3D\n",
    "Gammat = Gammat3D"
   ]
  },
  {
   "cell_type": "raw",
   "metadata": {},
   "source": [
    "#### Save files to plot with Gnuplot"
   ]
  },
  {
   "cell_type": "raw",
   "metadata": {},
   "source": [
    "np.savetxt('Eta-t0.2-WALLS.dat',   Etat[:,:,step(0.2)])\n",
    "np.savetxt('G-t0.2-WALLS.dat',     Gt[:,:,step(0.2)])\n",
    "np.savetxt('H-t0.2-WALLS.dat',     Ht[:,:,step(0.2)])\n",
    "np.savetxt('Gamma-t0.2-WALLS.dat', Gammat[:,:,step(0.2)])"
   ]
  },
  {
   "cell_type": "raw",
   "metadata": {},
   "source": [
    "### 4.2.2. Plot  $\\eta_{\\mu\\nu}(t)$, $G_{\\mu\\nu}(t)$, $H_{\\mu\\nu}(t)$ and $\\gamma_{\\mu\\nu}(t)$ "
   ]
  },
  {
   "cell_type": "raw",
   "metadata": {},
   "source": [
    "x = np.arange(0, nSteps * dt, dt)\n",
    "\n",
    "plt.figure(1, figsize=(15,35))\n",
    "\n",
    "plt.subplot(421)\n",
    "plt.plot(x, Etat[0,0,:], '-.b',  label=r'$\\mu$=1, $\\nu$=1')\n",
    "plt.plot(x, Etat[29,29,:], 'b',  label=r'$\\mu$=30, $\\nu$=30')\n",
    "plt.plot(x, Etat[34,34,:], '--b', label=r'$\\mu$=35, $\\nu$=35')\n",
    "plt.plot(x, Etat[39,39,:], ':b', label=r'$\\mu$=40, $\\nu$=40')\n",
    "plt.title(r'$\\eta_{\\mu\\nu}(t)$',fontsize=25)\n",
    "plt.xlabel('t',fontsize=25)\n",
    "plt.legend(loc='upper right',fontsize=25)\n",
    "\n",
    "plt.subplot(422)\n",
    "plt.plot(x, Etat[29,34,:], 'b'  , label=r'$\\mu$=30, $\\nu$=35')\n",
    "plt.plot(x, Etat[29,39,:], '--b',label=r'$\\mu$=30, $\\nu$=40')\n",
    "plt.plot(x, Etat[29,44,:], ':b' ,label=r'$\\mu$=30, $\\nu$=45')\n",
    "plt.title(r'$\\eta_{\\mu\\nu}(t)$',fontsize=25)\n",
    "plt.xlabel('t',fontsize=25)\n",
    "plt.legend(loc='upper right',fontsize=25)\n",
    "\n",
    "plt.subplot(423)\n",
    "plt.plot(x, Gt[3,3,:], '-.r', label=r'$\\mu$=4, $\\nu$=4')\n",
    "plt.plot(x, Gt[2,2,:], 'r', label=r'$\\mu$=3, $\\nu$=3')\n",
    "plt.plot(x, Gt[1,1,:], '--r', label=r'$\\mu$=2, $\\nu$=2')\n",
    "plt.plot(x, Gt[0,0,:], ':r', label=r'$\\mu$=1, $\\nu$=1')\n",
    "plt.title(r'$G_{\\mu\\nu}(t)$',fontsize=25)\n",
    "plt.xlabel('t',fontsize=25)\n",
    "plt.legend(loc='upper right',fontsize=25)\n",
    "\n",
    "plt.subplot(424)\n",
    "plt.plot(x, Gt[1,0,:],':r', label=r'$\\mu$=2, $\\nu$=1')\n",
    "plt.plot(x, Gt[1,2,:],'r', label=r'$\\mu$=2, $\\nu$=3')\n",
    "plt.plot(x, Gt[1,3,:],'--r', label=r'$\\mu$=2, $\\nu$=4')\n",
    "plt.title(r'$G_{\\mu\\nu}(t)$',fontsize=25)\n",
    "plt.xlabel('t',fontsize=25)\n",
    "plt.legend(loc='upper right',fontsize=25)\n",
    "\n",
    "plt.subplot(425)\n",
    "plt.plot(x, Ht[3,3,:], '-.g', label=r'$\\mu$=4, $\\nu$=4')\n",
    "plt.plot(x, Ht[2,2,:],  'g',label=r'$\\mu$=3, $\\nu$=3')\n",
    "plt.plot(x, Ht[1,1,:], '--g', label=r'$\\mu$=2, $\\nu$=2')\n",
    "plt.plot(x, Ht[0,0,:], ':g', label=r'$\\mu$=1, $\\nu$=1')\n",
    "plt.title(r'$H_{\\mu\\nu}(t)$',fontsize=25)\n",
    "plt.xlabel('t',fontsize=25)\n",
    "plt.legend(loc='upper right',fontsize=25)\n",
    "\n",
    "plt.subplot(426)\n",
    "plt.plot(x, Ht[1,0,:],':g', label=r'$\\mu$=2, $\\nu$=1')\n",
    "plt.plot(x, Ht[1,2,:],'g', label=r'$\\mu$=2, $\\nu$=3')\n",
    "plt.plot(x, Ht[1,3,:],'--g', label=r'$\\mu$=2, $\\nu$=4')\n",
    "plt.title(r'$H_{\\mu\\nu}(t)$',fontsize=25)\n",
    "plt.xlabel('t',fontsize=25)\n",
    "plt.legend(loc='upper right',fontsize=25)\n",
    "\n",
    "plt.subplot(427)\n",
    "plt.plot(x, Gammat[3,3,:], '-.k', label=r'$\\mu$=4, $\\nu$=4')\n",
    "plt.plot(x, Gammat[2,2,:], 'k' , label=r'$\\mu$=3, $\\nu$=3')\n",
    "plt.plot(x, Gammat[1,1,:], '--k', label=r'$\\mu$=2, $\\nu$=2')\n",
    "plt.plot(x, Gammat[0,0,:], ':k', label=r'$\\mu$=1, $\\nu$=1')\n",
    "plt.title(r'$\\gamma_{\\mu\\nu}(t)$',fontsize=25)\n",
    "plt.xlabel('t',fontsize=25)\n",
    "plt.legend(loc='upper right',fontsize=25)\n",
    "\n",
    "plt.subplot(428)\n",
    "plt.plot(x, Gammat[1,0,:],':k', label=r'$\\mu$=2, $\\nu$=1')\n",
    "plt.plot(x, Gammat[1,2,:],'k', label=r'$\\mu$=2, $\\nu$=3')\n",
    "plt.plot(x, Gammat[1,3,:],'--k', label=r'$\\mu$=2, $\\nu$=4')\n",
    "plt.title(r'$\\gamma_{\\mu\\nu}(t)$',fontsize=25)\n",
    "plt.xlabel('t',fontsize=25)\n",
    "plt.legend(loc='upper right',fontsize=25)\n",
    "\n",
    "plt.show()"
   ]
  },
  {
   "cell_type": "raw",
   "metadata": {},
   "source": [
    "#### Save files to plot with Gnuplot"
   ]
  },
  {
   "cell_type": "raw",
   "metadata": {},
   "source": [
    "A=[]\n",
    "A.append(Etat[0,0,:])\n",
    "A.append(Etat[29,29,:])\n",
    "A.append(Etat[34,34,:])\n",
    "A.append(Etat[39,39,:])\n",
    "A.append(Etat[29,34,:])\n",
    "A.append(Etat[29,39,:])\n",
    "A.append(Etat[29,44,:])\n",
    "A = np.array(A)\n",
    "np.savetxt('Etat-components-WALLS.dat', A.T)\n",
    "A=[]\n",
    "A.append(Gt[3,3,:])\n",
    "A.append(Gt[2,2,:])\n",
    "A.append(Gt[1,1,:])\n",
    "A.append(Gt[0,0,:])\n",
    "A.append(Gt[1,0,:])\n",
    "A.append(Gt[1,2,:])\n",
    "A.append(Gt[1,3,:])\n",
    "A = np.array(A)\n",
    "np.savetxt('Gt-components-WALLS.dat', A.T)\n",
    "A=[]\n",
    "A.append(Ht[3,3,:])\n",
    "A.append(Ht[2,2,:])\n",
    "A.append(Ht[1,1,:])\n",
    "A.append(Ht[0,0,:])\n",
    "A.append(Ht[1,0,:])\n",
    "A.append(Ht[1,2,:])\n",
    "A.append(Ht[1,3,:])\n",
    "A = np.array(A)\n",
    "np.savetxt('Ht-components-WALLS.dat', A.T)\n",
    "A=[]\n",
    "A.append(Gammat[3,3,:])\n",
    "A.append(Gammat[2,2,:])\n",
    "A.append(Gammat[1,1,:])\n",
    "A.append(Gammat[0,0,:])\n",
    "A.append(Gammat[1,0,:])\n",
    "A.append(Gammat[1,2,:])\n",
    "A.append(Gammat[1,3,:])\n",
    "A = np.array(A)\n",
    "np.savetxt('Gammat-components-WALLS.dat', A.T)"
   ]
  },
  {
   "cell_type": "raw",
   "metadata": {},
   "source": [
    "#### Plot again in log scale"
   ]
  },
  {
   "cell_type": "raw",
   "metadata": {},
   "source": [
    "x = np.arange(0, nSteps * dt, dt)\n",
    "\n",
    "plt.figure(1, figsize=(15,35))\n",
    "\n",
    "plt.subplot(421)\n",
    "plt.semilogy(x, Etat[0,0,:], '-.b',  label=r'$\\mu$=1, $\\nu$=1')\n",
    "plt.semilogy(x, Etat[29,29,:], 'b',  label=r'$\\mu$=30, $\\nu$=30')\n",
    "plt.semilogy(x, Etat[36,36,:], '--b', label=r'$\\mu$=35, $\\nu$=35')\n",
    "plt.semilogy(x, Etat[41,41,:], ':b', label=r'$\\mu$=40, $\\nu$=40')\n",
    "plt.title(r'$\\eta_{\\mu\\nu}(t)$',fontsize=25)\n",
    "plt.xlabel('t',fontsize=25)\n",
    "plt.legend(loc='upper right',fontsize=25)\n",
    "\n",
    "plt.subplot(422)\n",
    "plt.semilogy(x, Etat[29,34,:], 'b'  , label=r'$\\mu$=30, $\\nu$=35')\n",
    "plt.semilogy(x, Etat[29,39,:], '--b',label=r'$\\mu$=30, $\\nu$=40')\n",
    "plt.semilogy(x, Etat[29,44,:], ':b' ,label=r'$\\mu$=30, $\\nu$=45')\n",
    "plt.title(r'$\\eta_{\\mu\\nu}(t)$',fontsize=25)\n",
    "plt.xlabel('t',fontsize=25)\n",
    "plt.legend(loc='upper right',fontsize=25)\n",
    "\n",
    "plt.subplot(423)\n",
    "plt.semilogy(x, Gt[3,3,:], '-.r', label=r'$\\mu$=4, $\\nu$=4')\n",
    "plt.semilogy(x, Gt[2,2,:], 'r', label=r'$\\mu$=3, $\\nu$=3')\n",
    "plt.semilogy(x, Gt[1,1,:], '--r', label=r'$\\mu$=2, $\\nu$=2')\n",
    "plt.semilogy(x, Gt[0,0,:], ':r', label=r'$\\mu$=1, $\\nu$=1')\n",
    "plt.title(r'$G_{\\mu\\nu}(t)$',fontsize=25)\n",
    "plt.xlabel('t',fontsize=25)\n",
    "plt.legend(loc='upper right',fontsize=25)\n",
    "\n",
    "plt.subplot(424)\n",
    "plt.semilogy(x, Gt[1,0,:],':r', label=r'$\\mu$=2, $\\nu$=1')\n",
    "plt.semilogy(x, Gt[1,2,:],'r', label=r'$\\mu$=2, $\\nu$=3')\n",
    "plt.semilogy(x, Gt[1,3,:],'--r', label=r'$\\mu$=2, $\\nu$=4')\n",
    "plt.title(r'$G_{\\mu\\nu}(t)$',fontsize=25)\n",
    "plt.xlabel('t',fontsize=25)\n",
    "plt.legend(loc='upper right',fontsize=25)\n",
    "\n",
    "plt.subplot(425)\n",
    "plt.semilogy(x, Ht[3,3,:], '-.g', label=r'$\\mu$=4, $\\nu$=4')\n",
    "plt.semilogy(x, Ht[2,2,:],  'g',label=r'$\\mu$=3, $\\nu$=3')\n",
    "plt.semilogy(x, Ht[1,1,:], '--g', label=r'$\\mu$=2, $\\nu$=2')\n",
    "plt.semilogy(x, Ht[0,0,:], ':g', label=r'$\\mu$=1, $\\nu$=1')\n",
    "plt.title(r'$H_{\\mu\\nu}(t)$',fontsize=25)\n",
    "plt.xlabel('t',fontsize=25)\n",
    "plt.legend(loc='upper right',fontsize=25)\n",
    "\n",
    "plt.subplot(426)\n",
    "plt.semilogy(x, Ht[1,0,:],':g', label=r'$\\mu$=2, $\\nu$=1')\n",
    "plt.semilogy(x, Ht[1,2,:],'g', label=r'$\\mu$=2, $\\nu$=3')\n",
    "plt.semilogy(x, Ht[1,3,:],'--g', label=r'$\\mu$=2, $\\nu$=4')\n",
    "plt.title(r'$H_{\\mu\\nu}(t)$',fontsize=25)\n",
    "plt.xlabel('t',fontsize=25)\n",
    "plt.legend(loc='upper right',fontsize=25)\n",
    "\n",
    "plt.subplot(427)\n",
    "plt.semilogy(x, Gammat[3,3,:], '-.k', label=r'$\\mu$=4, $\\nu$=4')\n",
    "plt.semilogy(x, Gammat[2,2,:], 'k' , label=r'$\\mu$=3, $\\nu$=3')\n",
    "plt.semilogy(x, Gammat[1,1,:], '--k', label=r'$\\mu$=2, $\\nu$=2')\n",
    "plt.semilogy(x, Gammat[0,0,:], ':k', label=r'$\\mu$=1, $\\nu$=1')\n",
    "plt.title(r'$\\gamma_{\\mu\\nu}(t)$',fontsize=25)\n",
    "plt.xlabel('t',fontsize=25)\n",
    "plt.legend(loc='upper right',fontsize=25)\n",
    "\n",
    "plt.subplot(428)\n",
    "plt.semilogy(x, Gammat[1,0,:],':k', label=r'$\\mu$=2, $\\nu$=1')\n",
    "plt.semilogy(x, Gammat[1,2,:],'k', label=r'$\\mu$=2, $\\nu$=3')\n",
    "plt.semilogy(x, Gammat[1,3,:],'--k', label=r'$\\mu$=2, $\\nu$=4')\n",
    "plt.title(r'$\\gamma_{\\mu\\nu}(t)$',fontsize=25)\n",
    "plt.xlabel('t',fontsize=25)\n",
    "plt.legend(loc='upper right',fontsize=25)\n",
    "\n",
    "plt.show()"
   ]
  },
  {
   "cell_type": "raw",
   "metadata": {},
   "source": [
    "### 4.2.3 Compute and plot  $\\eta_{\\mu}(t)$, $G_{\\mu}(t)$, $H_{\\mu}(t)$ and $\\gamma_{\\mu}(t)$ "
   ]
  },
  {
   "cell_type": "raw",
   "metadata": {},
   "source": [
    "$\\eta_{\\mu} =\\sum\\eta_{\\mu\\nu}(t)$;\n",
    "$G_{\\mu} =\\sum G_{\\mu\\nu}(t)$;\n",
    "$H_{\\mu} =\\sum H_{\\mu\\nu}(t)$;\n",
    "$\\gamma_{\\mu} =\\sum\\gamma_{\\mu\\nu}(t)$"
   ]
  },
  {
   "cell_type": "raw",
   "metadata": {
    "collapsed": true
   },
   "source": [
    "EtatSum   = np.zeros((nNodes, nSteps))\n",
    "GtSum     = np.zeros((nNodes, nSteps))\n",
    "HtSum     = np.zeros((nNodes, nSteps))\n",
    "GammatSum = np.zeros((nNodes, nSteps))\n",
    "for k in range(nSteps):\n",
    "    EtatSum[:,k]   = np.sum(Etat[:,:,k], axis=1)\n",
    "    GtSum[:,k]     = np.sum(Gt[:,:,k], axis=1)\n",
    "    HtSum[:,k]     = np.sum(Ht[:,:,k], axis=1)\n",
    "    GammatSum[:,k] = np.sum(Gammat[:,:,k], axis=1)"
   ]
  },
  {
   "cell_type": "raw",
   "metadata": {},
   "source": [
    "x = np.arange(0, nSteps * dt, dt)\n",
    "plt.figure(1, figsize=(20,20))\n",
    "\n",
    "plt.subplot(4,2,1)\n",
    "plt.title(r'$\\eta_{\\mu}(t)$',fontsize=25)\n",
    "plt.xlabel('t',fontsize=25)\n",
    "for i in range(nNodes):\n",
    "    plt.plot(x,EtatSum[i,:])\n",
    "\n",
    "plt.subplot(4,2,2)\n",
    "plt.title(r'$\\eta_{\\mu}(t)$',fontsize=25)\n",
    "plt.xlabel('t',fontsize=25)\n",
    "for i in range(nNodes):\n",
    "    plt.loglog(x,EtatSum[i,:])\n",
    "\n",
    "plt.subplot(4,2,3)\n",
    "plt.title(r'$G_{\\mu}(t)$',fontsize=25)\n",
    "plt.xlabel('t',fontsize=25)\n",
    "for i in range(nNodes):\n",
    "    plt.plot(x,GtSum[i,:])\n",
    "\n",
    "plt.subplot(4,2,4)\n",
    "plt.title(r'$G_{\\mu}(t)$',fontsize=25)\n",
    "plt.xlabel('t',fontsize=25)\n",
    "for i in range(nNodes):\n",
    "    plt.loglog(x,GtSum[i,:])\n",
    "\n",
    "plt.subplot(4,2,5)\n",
    "plt.title(r'$H_{\\mu}(t)$',fontsize=25)\n",
    "plt.xlabel('t',fontsize=25)\n",
    "for i in range(nNodes):\n",
    "    plt.plot(x,HtSum[i,:])\n",
    "\n",
    "plt.subplot(4,2,6)\n",
    "plt.title(r'$H_{\\mu}(t)$',fontsize=25)\n",
    "plt.xlabel('t',fontsize=25)\n",
    "for i in range(nNodes):\n",
    "    plt.loglog(x,HtSum[i,:])\n",
    "\n",
    "plt.subplot(4,2,7)\n",
    "plt.title(r'$\\gamma_{\\mu}(t)$',fontsize=25)\n",
    "plt.xlabel('t',fontsize=25)\n",
    "for i in range(nNodes):\n",
    "    plt.plot(x,GammatSum[i,:])\n",
    "\n",
    "plt.subplot(4,2,8)\n",
    "plt.title(r'$\\gamma_{\\mu}(t)$',fontsize=25)\n",
    "plt.xlabel('t',fontsize=25)\n",
    "for i in range(nNodes):\n",
    "    plt.loglog(x,GammatSum[i,:])\n",
    "plt.show()"
   ]
  },
  {
   "cell_type": "raw",
   "metadata": {},
   "source": [
    "### 4.2.4. Compute and plot  $\\eta(t)$, $G(t)$, $H(t)$ and $\\gamma(t)$ "
   ]
  },
  {
   "cell_type": "raw",
   "metadata": {},
   "source": [
    "$\\eta =\\sum\\sum\\eta_{\\mu\\nu}(t)$;\n",
    "$G =\\sum\\sum G_{\\mu\\nu}(t)$;\n",
    "$H =\\sum\\sum H_{\\mu\\nu}(t)$;\n",
    "$\\gamma =\\sum\\sum\\gamma_{\\mu\\nu}(t)$"
   ]
  },
  {
   "cell_type": "raw",
   "metadata": {
    "collapsed": true
   },
   "source": [
    "EtatSumTotal   = np.zeros(nSteps)\n",
    "GtSumTotal     = np.zeros(nSteps)\n",
    "HtSumTotal     = np.zeros(nSteps)\n",
    "GammatSumTotal = np.zeros(nSteps)\n",
    "for k in range(nSteps):\n",
    "    EtatSumTotal[k]   = np.sum(EtatSum[:,k])\n",
    "    GtSumTotal[k]     = np.sum(GtSum[0:nNodes/2,k])\n",
    "    HtSumTotal[k]     = np.sum(HtSum[0:nNodes/2,k])\n",
    "    GammatSumTotal[k] = np.sum(GammatSum[0:nNodes/2,k])"
   ]
  },
  {
   "cell_type": "raw",
   "metadata": {},
   "source": [
    "x = np.arange(0, nSteps * dt, dt)\n",
    "plt.figure(1, figsize=(20,20))\n",
    "\n",
    "plt.subplot(4,2,1)\n",
    "plt.title(r'$\\eta(t)$',fontsize=25)\n",
    "plt.xlabel('t',fontsize=25)\n",
    "plt.plot(x,EtatSumTotal)\n",
    "\n",
    "\n",
    "plt.subplot(4,2,2)\n",
    "plt.title(r'$\\eta(t)$',fontsize=25)\n",
    "plt.xlabel('t',fontsize=25)\n",
    "plt.loglog(x,EtatSumTotal)\n",
    "\n",
    "\n",
    "plt.subplot(4,2,3)\n",
    "plt.title(r'$G(t)$',fontsize=25)\n",
    "plt.xlabel('t',fontsize=25)\n",
    "plt.plot(x,GtSumTotal)\n",
    "\n",
    "\n",
    "plt.subplot(4,2,4)\n",
    "plt.title(r'$G(t)$',fontsize=25)\n",
    "plt.xlabel('t',fontsize=25)\n",
    "plt.loglog(x,GtSumTotal)\n",
    "\n",
    "\n",
    "plt.subplot(4,2,5)\n",
    "plt.title(r'$H(t)$',fontsize=25)\n",
    "plt.xlabel('t',fontsize=25)\n",
    "plt.plot(x,HtSumTotal)\n",
    "\n",
    "\n",
    "plt.subplot(4,2,6)\n",
    "plt.title(r'$H(t)$',fontsize=25)\n",
    "plt.xlabel('t',fontsize=25)\n",
    "plt.loglog(x,HtSumTotal)\n",
    "\n",
    "\n",
    "plt.subplot(4,2,7)\n",
    "plt.title(r'$\\gamma(t)$',fontsize=25)\n",
    "plt.xlabel('t',fontsize=25)\n",
    "plt.plot(x,GammatSumTotal)\n",
    "\n",
    "\n",
    "plt.subplot(4,2,8)\n",
    "plt.title(r'$\\gamma(t)$',fontsize=25)\n",
    "plt.xlabel('t',fontsize=25)\n",
    "plt.loglog(x,GammatSumTotal)\n",
    "plt.show()"
   ]
  },
  {
   "cell_type": "raw",
   "metadata": {},
   "source": [
    "## 4.3. Delete the first/last row/column of the transport coef. matrices \n",
    "\n",
    "As we did with the correlation of the momentum, we delete the first/last row/column because these values are negligible. "
   ]
  },
  {
   "cell_type": "raw",
   "metadata": {
    "collapsed": true
   },
   "source": [
    "EtatNew   = np.zeros((nNodes-2, nNodes-2, nSteps))\n",
    "GtNew     = np.zeros((nNodes-2, nNodes-2, nSteps))\n",
    "HtNew     = np.zeros((nNodes-2, nNodes-2, nSteps))\n",
    "GammatNew = np.zeros((nNodes-2, nNodes-2, nSteps))\n",
    "\n",
    "for k in range(nSteps):\n",
    "    EtatNew[:,:,k]   = Etat3D[1:nNodes-1,1:nNodes-1,k]\n",
    "    GtNew[:,:,k]     = Gt3D[1:nNodes-1,1:nNodes-1,k]\n",
    "    HtNew[:,:,k]     = Ht3D[1:nNodes-1,1:nNodes-1,k]\n",
    "    GammatNew[:,:,k] = Gammat3D[1:nNodes-1,1:nNodes-1,k]"
   ]
  },
  {
   "cell_type": "raw",
   "metadata": {
    "collapsed": true
   },
   "source": [
    "Etat   = EtatNew\n",
    "Gt     = GtNew\n",
    "Ht     = HtNew\n",
    "Gammat = GammatNew\n",
    "nNodes = 59"
   ]
  },
  {
   "cell_type": "raw",
   "metadata": {},
   "source": [
    "## 4.4. Compute $M(t)$"
   ]
  },
  {
   "cell_type": "raw",
   "metadata": {
    "collapsed": true
   },
   "source": [
    "Mt = np.zeros((nNodes, nNodes, nSteps))\n",
    "\n",
    "for k in range(nSteps):\n",
    "    Mt[:,:,k] = B.dot(Etat[:,:,k]).dot(B.T) - Gt[:,:,k].dot(B.T) \\\n",
    "              - B.dot(Ht[:,:,k]) + Gammat[:,:,k]"
   ]
  },
  {
   "cell_type": "raw",
   "metadata": {},
   "source": [
    "## 4.5. Validate the theorem"
   ]
  },
  {
   "cell_type": "raw",
   "metadata": {},
   "source": [
    "checkTheoremt = (CtDev + Temp * Mt)\n",
    "\n",
    "x = range(nNodes)\n",
    "y = range(nNodes)\n",
    "\n",
    "f  = plt.figure(figsize=(15,15))\n",
    "\n",
    "X, Y = np.meshgrid(x, y)\n",
    "ha = f.add_subplot(3,2,1, projection='3d')\n",
    "ha.plot_surface(X, Y, CtDev[:,:,step(0.05)])\n",
    "ha.set_title(r'$\\dot{C}(0.05)$',fontsize=25)\n",
    "ha.set_xlabel(r'$\\mu$')\n",
    "ha.set_ylabel(r'$\\nu$')\n",
    "ha.set_zlim(-4e-3,2e-3)\n",
    "ha.view_init(0, 45)\n",
    "\n",
    "hb = f.add_subplot(3,2,3, projection='3d')\n",
    "hb.plot_surface(X, Y, CtDev[:,:,step(0.1)])\n",
    "hb.set_title(r'$\\dot{C}(0.1)$',fontsize=25)\n",
    "hb.set_xlabel(r'$\\mu$')\n",
    "hb.set_ylabel(r'$\\nu$')\n",
    "hb.set_zlim(-4e-3,2e-3)\n",
    "hb.view_init(0, 45)\n",
    "\n",
    "hc = f.add_subplot(3,2,5, projection='3d')\n",
    "hc.plot_surface(X, Y, CtDev[:,:,step(0.2)])\n",
    "hc.set_title(r'$\\dot{C}(0.2)$',fontsize=25)\n",
    "hc.set_xlabel(r'$\\mu$')\n",
    "hc.set_ylabel(r'$\\nu$')\n",
    "hc.set_zlim(-4e-3,2e-3)\n",
    "hc.view_init(0, 45)\n",
    "\n",
    "hd = f.add_subplot(3,2,2, projection='3d')\n",
    "hd.plot_surface(X, Y, checkTheoremt[:,:,step(0.05)])\n",
    "hd.set_title(r'$\\dot{C}(0.05)+ TM(0.05)$',fontsize=25)\n",
    "hd.set_xlabel(r'$\\mu$')\n",
    "hd.set_ylabel(r'$\\nu$')\n",
    "hd.set_zlim(-2e-5,5e-5)\n",
    "hd.view_init(0, 45)\n",
    "\n",
    "he = f.add_subplot(3,2,4, projection='3d')\n",
    "he.plot_surface(X, Y, checkTheoremt[:,:,step(0.1)])\n",
    "he.set_title(r'$\\dot{C}(0.1)+ TM(0.1)$',fontsize=25)\n",
    "he.set_xlabel(r'$\\mu$')\n",
    "he.set_ylabel(r'$\\nu$')\n",
    "he.set_zlim(-7e-5,5e-5)\n",
    "he.view_init(0, 45)\n",
    "\n",
    "hf = f.add_subplot(3,2,6, projection='3d')\n",
    "hf.plot_surface(X, Y, checkTheoremt[:,:,step(0.2)])\n",
    "hf.set_title(r'$\\dot{C}(0.2)+ TM(0.2)$',fontsize=25)\n",
    "hf.set_xlabel(r'$\\mu$')\n",
    "hf.set_ylabel(r'$\\nu$')\n",
    "hf.set_zlim(-3e-5,2e-5)\n",
    "hf.view_init(0, 45)\n",
    "\n",
    "plt.show()"
   ]
  },
  {
   "cell_type": "raw",
   "metadata": {},
   "source": [
    "#### Save $\\dot{C}(t)$ and $-TM(t)$ (to plot with gnuplot)"
   ]
  },
  {
   "cell_type": "raw",
   "metadata": {},
   "source": [
    "for t in np.arange(0, 1.5, 0.1):\n",
    "    np.savetxt('CDev-t'+str(t)+'-WALLS.dat', CtDev[:,:,step(t)])\n",
    "    np.savetxt('TempM-t'+str(t)+'-WALLS.dat', -Temp * Mt[:,:,step(t)])"
   ]
  },
  {
   "cell_type": "raw",
   "metadata": {},
   "source": [
    "# 5. NON-LOCAL KERNELS FROM CORRECTED GREEN-KUBO\n",
    "\n",
    "If the Markovian approximation is correct for the selected set of CG variables, we should have from\n",
    "\n",
    "$\\dot{C}(t) = -k_B·T·M(t) = -k_B·T·[B·\\eta(t)·B^T - G(t)·B^T - B·H(t) + \\gamma(t)]$ \n",
    "\n",
    "\n",
    "the following expression\n",
    "\n",
    "$\\dot{C}(t) = -k_B·T·M^*·C^{-1}(0)·C(t) = -k_B·T·[B·\\eta^*·B^T - G^*·B^T - B·H^* + \\gamma^*]·C^{-1}(0)·C(t)$ \n",
    "\n",
    "Then $M^*=B·\\eta^*·B^T - G^*·B^T - B·H^* + \\gamma^*$ \n",
    "\n",
    "**The transport kernels obtained should have a *plateau***.\n",
    "\n",
    "There is a correspondence between the terms \n",
    "\n",
    "$B·\\eta(t)·B^T =B·\\eta^*B^T·c(t) \\to \\eta^*=\\eta(t)·B^T·c^{-1}(t)·({B^T})^{-1}$ \n",
    "\n",
    "$G(t)·B^T = G^*·B^T·c(t)             \\to G^*=G(t)·B^T·c^{-1}(t)·({B^T})^{-1}$\n",
    "\n",
    "$B·H(t) = B·H^*·c(t)         \\to H^*=H(t)·c^{-1}(t)$\n",
    "\n",
    "$\\gamma(t) = \\gamma^*·c(t)       \\to \\gamma^*=\\gamma(t)·c^{-1}(t)$\n",
    "\n",
    "where we have introduced $c(t) = C^{-1}(0)·C(t)$.\n",
    "\n",
    "If $c^{-1}(t)$ and $B^T$ commute we have\n",
    "\n",
    "$\\eta^*=\\eta(t)·c^{-1}(t)$\n",
    "\n",
    "$G^*=G(t)·c^{-1}(t)$\n",
    "\n",
    "$H^*=H(t)·c^{-1}(t)$\n",
    "\n",
    "$\\gamma^*=\\gamma(t)·c^{-1}(t)$\n",
    "\n",
    "** We know that $c^{-1}(t)$ and $B^T$ do not commute because of the effect of the walls (see the last part of the section 5.1.2.)**. Therefore, none of the corrected transport coefficients (denoted with an asterisk) will have a plateau. \n",
    "\n",
    "$C(t)$ has two eigenvalues which do not have an exponential behaviour (cross y=0). These two eigenvalues belong to two eigenvectors related with the density of the fluid near the walls. **Therefore, near the walls the markovian hypothesis is not valid.**    \n",
    "\n",
    "-------------------------------\n",
    "\n",
    "Also we can define a new variable called \"friction term\", $\\Gamma^*$, which includes the three terms of force: $G^*$, $H^*$ and $\\gamma^*$:\n",
    "$\\Gamma^*=-G^*F-F^TH^*+\\gamma^*$\n",
    "\n",
    "\n",
    "Therefore:\n",
    "$\\Gamma^*=-G(t)Fc^{-1}(t)-F^TH(t)c^{-1}(t)+\\gamma(t)c^{-1}(t)$"
   ]
  },
  {
   "cell_type": "raw",
   "metadata": {},
   "source": [
    "## 5.1. Do $c^{-1}(t)$ and $F$ commute?"
   ]
  },
  {
   "cell_type": "raw",
   "metadata": {},
   "source": [
    "### 5.1.1. Compute $c^{-1}(t)$ "
   ]
  },
  {
   "cell_type": "raw",
   "metadata": {
    "collapsed": true
   },
   "source": [
    "CtNorm    = np.zeros((nNodes, nNodes, nSteps))\n",
    "CtNormInv = np.zeros((nNodes, nNodes, nSteps))\n",
    "for k in range(nSteps):\n",
    "    CtNorm[:,:,k]    = R.dot(Ct[:,:,k])\n",
    "    CtNormInv[:,:,k] = linalg.pinv(CtNorm[:,:,k], rcond = tol)"
   ]
  },
  {
   "cell_type": "raw",
   "metadata": {},
   "source": [
    "#### Save $c^{-1}(t)F$ and $Fc^{-1}(t)$ (to plot with gnuplot)"
   ]
  },
  {
   "cell_type": "raw",
   "metadata": {
    "collapsed": true
   },
   "source": [
    "for t in np.arange(0,0.3,0.05):\n",
    "    np.savetxt('CNormInvF-t'+str(t)+'-WALLS.dat', CtNorm[:,:,step(t)].dot(F))\n",
    "    np.savetxt('FCNormInv-t'+str(t)+'-WALLS.dat', F.dot(CtNorm[:,:,step(t)]))"
   ]
  },
  {
   "cell_type": "raw",
   "metadata": {},
   "source": [
    "### 5.1.2. Plot $c^{-1}(t)F$ and $Fc^{-1}(t)$ "
   ]
  },
  {
   "cell_type": "raw",
   "metadata": {},
   "source": [
    "x = range(nNodes)\n",
    "y = range(nNodes)\n",
    "\n",
    "f  = plt.figure(figsize=(15,15))\n",
    "\n",
    "X, Y = np.meshgrid(x, y)\n",
    "ha = f.add_subplot(3,2,1, projection='3d')\n",
    "ha.plot_wireframe(X, Y, CtNormInv[:,:,step(0.05)].dot(F))\n",
    "ha.set_title(r'$c^{-1}(0.05)F$',fontsize=25)\n",
    "ha.set_xlabel(r'$\\mu$')\n",
    "ha.set_ylabel(r'$\\nu$')\n",
    "#ha.view_init(0, 45)\n",
    "\n",
    "hb = f.add_subplot(3,2,3, projection='3d')\n",
    "hb.plot_wireframe(X, Y, CtNormInv[:,:,step(0.1)].dot(F))\n",
    "hb.set_title(r'$c^{-1}(0.1)F$',fontsize=25)\n",
    "hb.set_xlabel(r'$\\mu$')\n",
    "hb.set_ylabel(r'$\\nu$')\n",
    "#hb.view_init(0, 45)\n",
    "\n",
    "hc = f.add_subplot(3,2,5, projection='3d')\n",
    "hc.plot_wireframe(X, Y, CtNormInv[:,:,step(0.2)].dot(F))\n",
    "hc.set_title(r'$c^{-1}(0.2)F$',fontsize=25)\n",
    "hc.set_xlabel(r'$\\mu$')\n",
    "hc.set_ylabel(r'$\\nu$')\n",
    "#hc.view_init(0, 45)\n",
    "\n",
    "hd = f.add_subplot(3,2,2, projection='3d')\n",
    "hd.plot_wireframe(X, Y, F.dot(CtNormInv[:,:,step(0.05)]))\n",
    "hd.set_title(r'$Fc^{-1}(0.05)$',fontsize=25)\n",
    "hd.set_xlabel(r'$\\mu$')\n",
    "hd.set_ylabel(r'$\\nu$')\n",
    "#hd.view_init(0, 45)\n",
    "\n",
    "he = f.add_subplot(3,2,4, projection='3d')\n",
    "he.plot_wireframe(X, Y, F.dot(CtNormInv[:,:,step(0.1)]))\n",
    "he.set_title(r'$Fc^{-1}(0.1)$',fontsize=25)\n",
    "he.set_xlabel(r'$\\mu$')\n",
    "he.set_ylabel(r'$\\nu$')\n",
    "#he.view_init(0, 45)\n",
    "\n",
    "hf = f.add_subplot(3,2,6, projection='3d')\n",
    "hf.plot_wireframe(X, Y, F.dot(CtNormInv[:,:,step(0.2)]))\n",
    "hf.set_title(r'$Fc^{-1}(0.2)$',fontsize=25)\n",
    "hf.set_xlabel(r'$\\mu$')\n",
    "hf.set_ylabel(r'$\\nu$')\n",
    "#hf.view_init(0, 45)\n",
    "\n",
    "plt.show()"
   ]
  },
  {
   "cell_type": "raw",
   "metadata": {},
   "source": [
    "x = range(nNodes)\n",
    "y = range(nNodes)\n",
    "\n",
    "f  = plt.figure(figsize=(15,30))\n",
    "\n",
    "X, Y = np.meshgrid(x, y)\n",
    "ha = f.add_subplot(3,1,1, projection='3d')\n",
    "ha.plot_wireframe(X, Y, CtNormInv[:,:,step(0.05)].dot(F) - F.dot(CtNormInv[:,:,step(0.05)]))\n",
    "ha.set_title(r'$c^{-1}(0.05)F-Fc^{-1}(0.05)$',fontsize=25)\n",
    "ha.set_xlabel(r'$\\mu$')\n",
    "ha.set_ylabel(r'$\\nu$')\n",
    "#ha.view_init(0, 45)\n",
    "\n",
    "hb = f.add_subplot(3,1,2, projection='3d')\n",
    "hb.plot_wireframe(X, Y, CtNormInv[:,:,step(0.1)].dot(F) - F.dot(CtNormInv[:,:,step(0.1)]))\n",
    "hb.set_title(r'$c^{-1}(0.1)F-Fc^{-1}(0.1)$',fontsize=25)\n",
    "hb.set_xlabel(r'$\\mu$')\n",
    "hb.set_ylabel(r'$\\nu$')\n",
    "#hb.view_init(0, 45)\n",
    "\n",
    "hc = f.add_subplot(3,1,3, projection='3d')\n",
    "hc.plot_wireframe(X, Y, CtNormInv[:,:,step(0.2)].dot(F)-F.dot(CtNormInv[:,:,step(0.2)]))\n",
    "hc.set_title(r'$c^{-1}(0.2)F-Fc^{-1}(0.2)$',fontsize=25)\n",
    "hc.set_xlabel(r'$\\mu$')\n",
    "hc.set_ylabel(r'$\\nu$')\n",
    "#hc.view_init(0, 45)\n",
    "\n",
    "plt.show()"
   ]
  },
  {
   "cell_type": "raw",
   "metadata": {},
   "source": [
    "The matrices are pretty similar but near the walls are not equal. $c^{-1}(t)$ and $F$ commute \"more or less\". Therefore, we may try to obtain the non-local kernels from the expressions\n",
    "\n",
    "$\\eta^*=\\eta(t)·c^{-1}(t)$\n",
    "\n",
    "$G^*=G(t)·c^{-1}(t)$\n",
    "\n",
    "$H^*=H(t)·c^{-1}(t)$\n",
    "\n",
    "$\\gamma^*=\\gamma(t)·c^{-1}(t)$"
   ]
  },
  {
   "cell_type": "raw",
   "metadata": {},
   "source": [
    "## 5.2. Compute $\\tilde{\\eta}(t)$, $\\tilde{G}(t)$, $\\tilde{H}(t)$, $\\tilde{\\gamma}(t)$, $\\tilde{c}(t)$ and $\\tilde{c^{-1}}(t)$ \n",
    "\n",
    "The basis used is E(t) (the basis of eigenvectors of $C(t)$ calculated in each time step)"
   ]
  },
  {
   "cell_type": "raw",
   "metadata": {
    "collapsed": true
   },
   "source": [
    "EtatRec      = np.zeros((nNodes, nNodes, nSteps))\n",
    "GtRec        = np.zeros((nNodes, nNodes, nSteps))\n",
    "HtRec        = np.zeros((nNodes, nNodes, nSteps))\n",
    "GammatRec    = np.zeros((nNodes, nNodes, nSteps))\n",
    "CtNormRec    = np.zeros((nNodes, nNodes, nSteps))\n",
    "CtNormInvRec = np.zeros((nNodes, nNodes, nSteps))\n",
    "BtRec        = np.zeros((nNodes, nNodes, nSteps))\n",
    "FtRec        = np.zeros((nNodes, nNodes, nSteps))\n",
    "\n",
    "for k in range(nSteps):\n",
    "    EtatRec[:,:,k]      = inv(vt[:,:,k]).dot(Etat[:,:,k]).dot(vt[:,:,k])\n",
    "    GtRec[:,:,k]        = inv(vt[:,:,k]).dot(Gt[:,:,k]).dot(vt[:,:,k])\n",
    "    HtRec[:,:,k]        = inv(vt[:,:,k]).dot(Ht[:,:,k]).dot(vt[:,:,k])\n",
    "    GammatRec[:,:,k]    = inv(vt[:,:,k]).dot(Gammat[:,:,k]).dot(vt[:,:,k])\n",
    "    CtNormRec[:,:,k]    = inv(vt[:,:,k]).dot(CtNorm[:,:,k]).dot(vt[:,:,k])\n",
    "    CtNormInvRec[:,:,k] = inv(vt[:,:,k]).dot(CtNormInv[:,:,k]).dot(vt[:,:,k])\n",
    "    BtRec[:,:,k]        = inv(vt[:,:,k]).dot(B).dot(vt[:,:,k])\n",
    "    FtRec[:,:,k]        = inv(vt[:,:,k]).dot(F).dot(vt[:,:,k])"
   ]
  },
  {
   "cell_type": "raw",
   "metadata": {
    "collapsed": true
   },
   "source": [
    "np.savetxt('EtaRec-t0.12-WALLS.dat', EtatRec[:,:,step(0.12)])\n",
    "np.savetxt('GRec-t0.12-WALLS.dat', GtRec[:,:,step(0.12)])\n",
    "np.savetxt('HRec-t0.12-WALLS.dat', HtRec[:,:,step(0.12)])\n",
    "np.savetxt('GammaRec-t0.12-WALLS.dat', GammatRec[:,:,step(0.12)])\n",
    "np.savetxt('BRec-t0.12-WALLS.dat', BtRec[:,:,step(0.12)])"
   ]
  },
  {
   "cell_type": "raw",
   "metadata": {},
   "source": [
    "x    = range(nNodes)\n",
    "y    = range(nNodes)\n",
    "X, Y = np.meshgrid(x, y)\n",
    "\n",
    "f  = plt.figure(figsize=(15,45))\n",
    "\n",
    "ha = f.add_subplot(4,1,1, projection='3d')\n",
    "ha.plot_wireframe(X, Y, EtatRec[:,:,step(0.12)])\n",
    "ha.set_title(r'$\\eta(0.12)$',fontsize=25)\n",
    "ha.set_xlabel(r'$\\mu$')\n",
    "ha.set_ylabel(r'$\\nu$')\n",
    "\n",
    "ha = f.add_subplot(4,1,2, projection='3d')\n",
    "ha.plot_wireframe(X, Y, GtRec[:,:,step(0.12)])\n",
    "ha.set_title(r'$G(0.12)$',fontsize=25)\n",
    "ha.set_xlabel(r'$\\mu$')\n",
    "ha.set_ylabel(r'$\\nu$')\n",
    "\n",
    "ha = f.add_subplot(4,1,3, projection='3d')\n",
    "ha.plot_wireframe(X, Y, HtRec[:,:,step(0.12)])\n",
    "ha.set_title(r'$H(0.12)$',fontsize=25)\n",
    "ha.set_xlabel(r'$\\mu$')\n",
    "ha.set_ylabel(r'$\\nu$')\n",
    "\n",
    "ha = f.add_subplot(4,1,4, projection='3d')\n",
    "ha.plot_wireframe(X, Y, GammatRec[:,:,step(0.12)])\n",
    "ha.set_title(r'$\\gamma(0.12)$',fontsize=25)\n",
    "ha.set_xlabel(r'$\\mu$')\n",
    "ha.set_ylabel(r'$\\nu$')\n",
    "\n",
    "plt.show()"
   ]
  },
  {
   "cell_type": "raw",
   "metadata": {},
   "source": [
    "### 5.2.1. Plot $\\tilde{c}(t)$ and $\\tilde{c}^{-1}$"
   ]
  },
  {
   "cell_type": "raw",
   "metadata": {},
   "source": [
    "x = np.arange(0, nSteps * dt, dt)\n",
    "\n",
    "for i in range(nNodes):\n",
    "    plt.plot(x, CtNormRec[i,i,:])\n",
    "    #plt.plot(x, np.ones(nSteps) * cutOffValue, 'k')\n",
    "plt.title(r'$\\tilde{c}_{\\mu\\mu}(t)$',fontsize=25)\n",
    "plt.xlabel('t')\n",
    "plt.xlim(0,2)\n",
    "#plt.ylim(0,)\n",
    "plt.show()\n",
    "\n",
    "for i in range(nNodes):\n",
    "    plt.plot(x, CtNormInvRec[i,i,:])\n",
    "plt.title(r'$\\tilde{c^{-1}}_{\\mu\\mu}(t)$',fontsize=25)\n",
    "plt.xlabel('t')\n",
    "plt.xlim(0,2)\n",
    "#plt.ylim(0,)\n",
    "plt.show()"
   ]
  },
  {
   "cell_type": "raw",
   "metadata": {},
   "source": [
    "### 5.2.1. Plot $\\tilde{\\eta}(t)$, $\\tilde{G}(t)$, $\\tilde{H}(t)$ and $\\tilde{\\gamma}(t)$"
   ]
  },
  {
   "cell_type": "raw",
   "metadata": {},
   "source": [
    "x = np.arange(0, nSteps * dt, dt)\n",
    "f  = plt.figure(figsize=(15,20))\n",
    "\n",
    "plt.subplot(221)\n",
    "for i in np.arange(nNodes):\n",
    "    plt.plot(x, EtatRec[i,i,:])\n",
    "plt.title(r'$\\tilde{\\eta}_{\\mu\\mu}(t)$',fontsize=25)\n",
    "plt.xlabel('t')\n",
    "plt.xlim(0,2)\n",
    "#plt.ylim(-1e-5,3e-3)\n",
    "\n",
    "plt.subplot(222)\n",
    "for i in range(nNodes):\n",
    "    plt.plot(x, GtRec[i,i,:])\n",
    "plt.title(r'$\\tilde{G}_{\\mu\\mu}(t)$',fontsize=25)\n",
    "plt.xlabel('t')\n",
    "plt.xlim(0,2)\n",
    "plt.ylim(-1e-5,1e-5)\n",
    "\n",
    "plt.subplot(223)\n",
    "for i in range(nNodes):\n",
    "    plt.plot(x, HtRec[i,i,:])\n",
    "plt.title(r'$\\tilde{H}_{\\mu\\mu}(t)$',fontsize=25)\n",
    "plt.xlabel('t')\n",
    "plt.xlim(0,2)\n",
    "plt.ylim(-1e-5,1e-5)\n",
    "\n",
    "plt.subplot(224)\n",
    "for i in range(nNodes):\n",
    "    plt.plot(x, GammatRec[i,i,:])\n",
    "plt.title(r'$\\tilde{\\gamma}_{\\mu\\mu}(t)$',fontsize=25)\n",
    "plt.xlabel('t')\n",
    "plt.xlim(0,2)\n",
    "plt.ylim(-3e-5,3e-4)\n",
    "\n",
    "\n",
    "plt.show()"
   ]
  },
  {
   "cell_type": "raw",
   "metadata": {},
   "source": [
    "### 5.2.2. Compute and plot $\\tilde{\\eta_{\\mu}}$, $\\tilde{G_{\\mu}}$, $\\tilde{H_{\\mu}}$ and $\\tilde{\\gamma_{\\mu}}$"
   ]
  },
  {
   "cell_type": "raw",
   "metadata": {
    "collapsed": true
   },
   "source": [
    "EtatRecSum   = np.zeros((nNodes, nSteps))\n",
    "GtRecSum     = np.zeros((nNodes, nSteps))\n",
    "HtRecSum     = np.zeros((nNodes, nSteps))\n",
    "GammatRecSum = np.zeros((nNodes, nSteps))\n",
    "for k in range(nSteps):\n",
    "    EtatRecSum[:,k]   = np.sum(EtatRec[:,:,k], axis=1)\n",
    "    GtRecSum[:,k]     = np.sum(GtRec[:,:,k], axis=1)\n",
    "    HtRecSum[:,k]     = np.sum(HtRec[:,:,k], axis=1)\n",
    "    GammatRecSum[:,k] = np.sum(GammatRec[:,:,k], axis=1)"
   ]
  },
  {
   "cell_type": "raw",
   "metadata": {},
   "source": [
    "x = np.arange(0, nSteps * dt, dt)\n",
    "\n",
    "plt.title(r'$\\eta_{\\mu}(t)$',fontsize=25)\n",
    "plt.xlabel('t')\n",
    "for i in range(nNodes):\n",
    "    plt.plot(x,EtatRecSum[i,:])\n",
    "plt.show()\n",
    "\n",
    "plt.title(r'$\\eta_{\\mu}(t)$',fontsize=25)\n",
    "plt.xlabel('t')\n",
    "for i in range(nNodes):\n",
    "    plt.semilogy(x,EtatRecSum[i,:])\n",
    "plt.show()\n",
    "\n",
    "plt.title(r'$G_{\\mu}(t)$',fontsize=25)\n",
    "plt.xlabel('t')\n",
    "for i in range(nNodes):\n",
    "    plt.plot(x,GtRecSum[i,:])\n",
    "plt.show()\n",
    "\n",
    "plt.title(r'$G_{\\mu}(t)$',fontsize=25)\n",
    "plt.xlabel('t')\n",
    "for i in range(nNodes):\n",
    "    plt.semilogy(x,GtRecSum[i,:])\n",
    "plt.show()\n",
    "\n",
    "plt.title(r'$H_{\\mu}(t)$',fontsize=25)\n",
    "plt.xlabel('t')\n",
    "for i in range(nNodes):\n",
    "    plt.plot(x,HtRecSum[i,:])\n",
    "plt.show()\n",
    "\n",
    "plt.title(r'$H_{\\mu}(t)$',fontsize=25)\n",
    "plt.xlabel('t')\n",
    "for i in range(nNodes):\n",
    "    plt.semilogy(x,HtRecSum[i,:])\n",
    "plt.show()\n",
    "\n",
    "plt.title(r'$\\gamma_{\\mu}(t)$',fontsize=25)\n",
    "plt.xlabel('t')\n",
    "for i in range(nNodes):\n",
    "    plt.plot(x,GammatRecSum[i,:])\n",
    "plt.show()\n",
    "\n",
    "plt.title(r'$\\gamma_{\\mu}(t)$',fontsize=25)\n",
    "plt.xlabel('t')\n",
    "for i in range(nNodes):\n",
    "    plt.semilogy(x,GammatRecSum[i,:])\n",
    "plt.show()"
   ]
  },
  {
   "cell_type": "raw",
   "metadata": {},
   "source": [
    "## 5.3. Compute $\\tilde{\\eta^*}$, $\\tilde{G^*}$, $\\tilde{H^*}$, $\\tilde{\\gamma^*}$ and $\\tilde{M^*}$ (we assume that $c^{-1}(t)$ and $F$ commute)\n",
    "\n",
    "$\\tilde{\\eta^*}=\\tilde{\\eta}(t)·\\tilde{c^{-1}}(t)$\n",
    "\n",
    "$\\tilde{G^*}=\\tilde{G}(t)·\\tilde{c^{-1}}(t)$\n",
    "\n",
    "$\\tilde{H^*}=\\tilde{H}(t)·\\tilde{c^{-1}}(t)$\n",
    "\n",
    "$\\tilde{\\gamma^*}=\\tilde{\\gamma}(t)·\\tilde{c^{-1}}(t)$\n",
    "\n",
    "$\\tilde{M^*}= \\tilde{B}·\\tilde{\\eta^*}·\\tilde{B}^T - \\tilde{G^*}·\\tilde{B}^T - \\tilde{B}·\\tilde{H^*} + \\tilde{\\gamma^*}$ "
   ]
  },
  {
   "cell_type": "raw",
   "metadata": {
    "collapsed": true
   },
   "source": [
    "EtaStartRec   = np.zeros((nNodes, nNodes, nSteps))\n",
    "GStartRec     = np.zeros((nNodes, nNodes, nSteps))\n",
    "HStartRec     = np.zeros((nNodes, nNodes, nSteps))\n",
    "GammaStartRec = np.zeros((nNodes, nNodes, nSteps))\n",
    "MStartRec     = np.zeros((nNodes, nNodes, nSteps))\n",
    "\n",
    "for k in range(nSteps):\n",
    "    BRec = BtRec[:,:,k]\n",
    "    FRec = FtRec[:,:,k]\n",
    "    EtaStartRec[:,:,k]   = EtatRec[:,:,k].dot(CtNormInvRec[:,:,k])\n",
    "    GStartRec[:,:,k]     = GtRec[:,:,k].dot(CtNormInvRec[:,:,k])\n",
    "    HStartRec[:,:,k]     = HtRec[:,:,k].dot(CtNormInvRec[:,:,k])\n",
    "    GammaStartRec[:,:,k] = GammatRec[:,:,k].dot(CtNormInvRec[:,:,k])\n",
    "    MStartRec[:,:,k]     = BRec.dot(EtaStartRec[:,:,k]).dot(FRec) \\\n",
    "                         - GStartRec[:,:,k].dot(FRec)- BRec.dot(HStartRec[:,:,k])\\\n",
    "                         + GammaStartRec[:,:,k]\n",
    "\n",
    "#Convert zeros to NaN's \n",
    "#for k in range(nSteps):\n",
    "#    EtaStartRec[:,:,k]   = zeroToNan(EtaStartRec[:,:,k])\n",
    "#    GStartRec[:,:,k]     = zeroToNan(GStartRec[:,:,k])\n",
    "#    HStartRec[:,:,k]     = zeroToNan(HStartRec[:,:,k])\n",
    "#    GammaStartRec[:,:,k] = zeroToNan(GammaStartRec[:,:,k])\n",
    "#    MStartRec[:,:,k]     = zeroToNan(MStartRec[:,:,k])"
   ]
  },
  {
   "cell_type": "raw",
   "metadata": {},
   "source": [
    "### 5.3.1. Plot $\\tilde{\\eta^*}$, $\\tilde{G^*}$, $\\tilde{H^*}$, $\\tilde{\\gamma^*}$ and $\\tilde{M^*}$"
   ]
  },
  {
   "cell_type": "raw",
   "metadata": {},
   "source": [
    "x = np.arange(0, nSteps * dt, dt)\n",
    "f  = plt.figure(figsize=(15,25))\n",
    "\n",
    "plt.subplot(511)\n",
    "for i in range(nNodes):\n",
    "    plt.plot(x, EtaStartRec[i,i,:])\n",
    "plt.title(r'$\\tilde{\\eta^*}_{\\mu\\mu}(t)$',fontsize=25)\n",
    "plt.xlabel('t')\n",
    "plt.xlim(0,2)\n",
    "plt.ylim(0,3e-3)\n",
    "\n",
    "plt.subplot(512)\n",
    "for i in range(nNodes):\n",
    "    plt.plot(x, GStartRec[i,i,:])\n",
    "plt.title(r'$\\tilde{G^*}_{\\mu\\mu}(t)$',fontsize=25)\n",
    "plt.xlabel('t')\n",
    "plt.xlim(0,2)\n",
    "plt.ylim(-3e-5,3e-5)\n",
    "\n",
    "plt.subplot(513)\n",
    "for i in range(nNodes):\n",
    "    plt.plot(x, HStartRec[i,i,:])\n",
    "plt.title(r'$\\tilde{H^*}_{\\mu\\mu}(t)$',fontsize=25)\n",
    "plt.xlabel('t')\n",
    "plt.xlim(0,2)\n",
    "plt.ylim(-3e-4,3e-4)\n",
    "\n",
    "plt.subplot(514)\n",
    "for i in range(nNodes):\n",
    "    plt.plot(x, GammaStartRec[i,i,:])\n",
    "plt.title(r'$\\tilde{\\gamma^*}_{\\mu\\mu}(t)$',fontsize=25)\n",
    "plt.xlabel('t')\n",
    "plt.xlim(0,2)\n",
    "#plt.ylim(-3e-5,3e-4)\n",
    "\n",
    "plt.subplot(515)\n",
    "for i in range(nNodes):\n",
    "    plt.plot(x, MStartRec[i,i,:])\n",
    "plt.title(r'$\\tilde{M^*}_{\\mu\\mu}(t)$',fontsize=25)\n",
    "plt.xlabel('t')\n",
    "plt.xlim(0,2)\n",
    "plt.ylim(-3e-4,1e-2)\n",
    "\n",
    "plt.show()"
   ]
  },
  {
   "cell_type": "raw",
   "metadata": {},
   "source": [
    "### 5.3.2. Compute $\\tilde{\\gamma^*}$ as $\\sum_{\\mu\\nu}\\tilde{\\gamma^*}_{\\mu\\nu}$"
   ]
  },
  {
   "cell_type": "raw",
   "metadata": {},
   "source": [
    "GammaStart      = np.zeros((nNodes, nNodes, nSteps))\n",
    "GammaStarSumt   = np.zeros((nNodes, nSteps))\n",
    "for k in range(nSteps):\n",
    "    GammaStart[:,:,k]  = Gammat[:,:,k].dot(CtNorm[:,:,k])\n",
    "    GammaStarSumt[:,k] = np.sum(GammaStart[:,:,k], axis = 1)\n",
    "GammaStarTotalt = np.sum(GammaStarSumt, axis = 0)\n",
    "plt.plot(GammaStarTotalt)\n",
    "plt.show()"
   ]
  },
  {
   "cell_type": "raw",
   "metadata": {},
   "source": [
    "## 5.4. Compute $\\tilde{B}\\tilde{\\eta^*}\\tilde{F}$, $\\tilde{G^*}\\tilde{F}$ and $\\tilde{B}\\tilde{H^*}$"
   ]
  },
  {
   "cell_type": "raw",
   "metadata": {
    "collapsed": true
   },
   "source": [
    "BEtaStartRecF = np.zeros((nNodes, nNodes, nSteps))\n",
    "GStartRecF    = np.zeros((nNodes, nNodes, nSteps))\n",
    "BHStartRec    = np.zeros((nNodes, nNodes, nSteps))\n",
    "\n",
    "for k in range(nSteps):\n",
    "    BRec = BtRec[:,:,k] \n",
    "    FRec = FtRec[:,:,k] \n",
    "    BEtaStartRecF[:,:,k]  = BRec.dot(EtaStartRec[:,:,k]).dot(FRec)\n",
    "    GStartRecF[:,:,k]     = GStartRec[:,:,k].dot(FRec)\n",
    "    BHStartRec[:,:,k]     = BRec.dot(HStartRec[:,:,k])\n",
    "\n",
    "#Convert zeros to NaN's \n",
    "#for k in range(nSteps):\n",
    "#    BEtaStartRecF[:,:,k] = zeroToNan(BEtaStartRecF[:,:,k])\n",
    "#    GStartRecF[:,:,k]    = zeroToNan(GStartRecF[:,:,k])\n",
    "#    BHStartRec[:,:,k]    = zeroToNan(BHStartRec[:,:,k])"
   ]
  },
  {
   "cell_type": "raw",
   "metadata": {},
   "source": [
    "x  = np.arange(0, nSteps * dt, dt)\n",
    "f  = plt.figure(figsize=(15,15))\n",
    "\n",
    "plt.subplot(221)\n",
    "for i in range(10):\n",
    "    plt.plot(x,-GStartRecF[i,i,:] - BHStartRec[i,i,:])\n",
    "plt.title(r'$-\\tilde{G^*F}_{\\mu\\mu}(t)-B\\tilde{H^*}_{\\mu\\mu}(t)$',fontsize=25)\n",
    "plt.xlabel('t')\n",
    "plt.xlim(0,2)\n",
    "#plt.ylim(0,3e-2)\n",
    "plt.ylim(-3e-4,3e-4)\n",
    "\n",
    "plt.subplot(222)\n",
    "for i in range(10):\n",
    "    plt.plot(x,-GStartRecF[i,i,:] - BHStartRec[i,i,:] + GammaStartRec[i,i,:])\n",
    "plt.title(r'$-\\tilde{G^*F}_{\\mu\\mu}(t)-B\\tilde{H^*}_{\\mu\\mu}(t)+\\tilde{\\gamma^*}_{\\mu\\mu}(t)$',fontsize=25)\n",
    "plt.xlabel('t')\n",
    "plt.xlim(0,2)\n",
    "#plt.ylim(0,3e-2)\n",
    "#plt.ylim(0,3e-3)\n",
    "\n",
    "plt.subplot(223)\n",
    "for i in range(10):\n",
    "    plt.plot(x, BEtaStartRecF[i,i,:])\n",
    "plt.title(r'$B\\tilde{\\eta^*}_{\\mu\\mu}(t)F$',fontsize=25)\n",
    "plt.xlabel('t')\n",
    "plt.xlim(0,2)\n",
    "#plt.ylim(0,3e-2)\n",
    "\n",
    "plt.subplot(224)\n",
    "for i in range(nNodes):\n",
    "    plt.plot(x, BEtaStartRecF[i,i,:] - GStartRecF[i,i,:] - BHStartRec[i,i,:] + GammaStartRec[i,i,:])\n",
    "plt.title(r'$\\tilde{M^*}_{\\mu\\mu}(t)$',fontsize=25)\n",
    "plt.xlabel('t')\n",
    "plt.xlim(0,2)\n",
    "#plt.ylim(0,3e-2)\n",
    "\n",
    "plt.show()"
   ]
  },
  {
   "cell_type": "raw",
   "metadata": {},
   "source": [
    "$M^*$ has a $plateau$ because $\\eta^*$ has, and its values are much greater than the values of $G^*$, $H^*$ and $\\gamma^*$, which do not have a $plateau$. Note that $\\eta^*$ has a $plateau$ in the bulk but not near the walls.\n",
    "Therefore, it not make sense to talk about a constant value of $G$, $H$ and $\\gamma$ because we know that near the walls the behaviour is not markovian. "
   ]
  },
  {
   "cell_type": "raw",
   "metadata": {},
   "source": [
    "## 5.5. Compute $\\Gamma(t)$ and $\\tilde{\\Gamma}(t)$"
   ]
  },
  {
   "cell_type": "raw",
   "metadata": {
    "collapsed": true
   },
   "source": [
    "FrictionTermt    = np.zeros((nNodes, nNodes, nSteps))\n",
    "FrictionTermtRec = np.zeros((nNodes, nNodes, nSteps))\n",
    "for k in range(nSteps):\n",
    "    FrictionTermt[:,:,k] = -Gt[:,:,k].dot(F)\\\n",
    "                        -(F.T).dot(Ht[:,:,k]) \\\n",
    "                        + Gammat[:,:,k]\n",
    "    FrictionTermtRec[:,:,k] = -GtRec[:,:,k].dot(F)\\\n",
    "                        -(F.T).dot(HtRec[:,:,k]) \\\n",
    "                        + GammatRec[:,:,k]\n",
    "#for i in np.arange(0,2,0.1):\n",
    "#    np.savetxt('FrictionTerm-t'+str(i)+'-WALLS.dat', FrictionTermt[:,:,step(i)])\n",
    "\n",
    "\n",
    "#Friction = np.zeros((nSteps, nNodes**2))\n",
    "#for k in range(nSteps):\n",
    "#    Friction[k,:] = reshape_mv(FrictionTermt[:,:,k])\n",
    "#np.savetxt('Friction.dat', Friction)"
   ]
  },
  {
   "cell_type": "raw",
   "metadata": {},
   "source": [
    "# 5.6 Check theorem"
   ]
  },
  {
   "cell_type": "raw",
   "metadata": {},
   "source": [
    "We want to validate this theorem $\\dot{C}(t)c^{-1}(t)=-\\Lambda^*=-k_B T[B\\eta(t)B^T+\\Gamma(t)]c^{-1}(t)$. If $\\Lambda^*$ has a plateau then the right side of the equation should reach a constant value. Therefore, both $B\\eta(t)B^Tc^{-1}(t)$ and $\\Gamma(t)c^{-1}(t)$ should have a plateau."
   ]
  },
  {
   "cell_type": "raw",
   "metadata": {},
   "source": [
    "## 5.6.1. $\\Lambda^*$ and $\\tilde{\\Lambda^*}$"
   ]
  },
  {
   "cell_type": "raw",
   "metadata": {},
   "source": [
    "LambdaStart= np.zeros((nNodes, nNodes, nSteps))\n",
    "LambdaStarRect= np.zeros((nNodes, nNodes, nSteps))\n",
    "\n",
    "for k in range(nSteps):\n",
    "    LambdaStart[:,:,k]    = - CtDev[:,:,k].dot(CtNormInv[:,:,k])\n",
    "    LambdaStarRect[:,:,k] = - CtDevRec[:,:,k].dot(CtNormInvRec[:,:,k])\n",
    "\n",
    "#Movie\n",
    "#LambdaStarMovie = np.zeros((nSteps, nNodes**2))\n",
    "#for k in range(nSteps):\n",
    "#    LambdaStarMovie[k,:] = reshape_mv(LambdaStart[:,:,k])\n",
    "#np.savetxt('LambdaStarMovie.dat',LambdaStarMovie)\n",
    "\n",
    "#Matrix\n",
    "for t in np.arange(0,2,0.1):\n",
    "    np.savetxt('LambdaStar-t'+str(t)+'-WALLS.dat', LambdaStart[:,:,step(t)])\n",
    "    np.savetxt('LambdaStarRec-t'+str(t)+'-WALLS.dat', LambdaStarRect[:,:,step(t)])\n",
    "\n",
    "\n",
    "#Elements\n",
    "x = np.arange(0,dt*nSteps,dt)\n",
    "for i in np.arange(0,nNodes,1):\n",
    "    plt.plot(x,LambdaStart[i,i,:], label=str(i+1))\n",
    "#plt.legend(loc='upper right',fontsize=15)\n",
    "plt.ylim(-0.01,0.02)\n",
    "plt.show()\n",
    "for i in range(nNodes):\n",
    "    plt.plot(x,LambdaStarRect[i,i,:], label=str(i+1))\n",
    "#plt.legend(loc='upper right',fontsize=15)\n",
    "plt.ylim(-0.01,0.02)\n",
    "plt.show()"
   ]
  },
  {
   "cell_type": "raw",
   "metadata": {},
   "source": [
    "## 5.6.2. $B\\eta(t)B^Tc^{-1}(t)$ and $B\\tilde{\\eta}(t)B^Tc^{-1}(t)$"
   ]
  },
  {
   "cell_type": "raw",
   "metadata": {},
   "source": [
    "BEtaStarBt    = np.zeros((nNodes, nNodes, nSteps))\n",
    "BEtaStarRecBt = np.zeros((nNodes, nNodes, nSteps))\n",
    "for k in range(nSteps):\n",
    "    BEtaStarBt[:,:,k]    = Temp * B.dot(Etat[:,:,k]).dot(B.T).dot(CtNormInv[:,:,k])\n",
    "    BEtaStarRecBt[:,:,k] = Temp * B.dot(EtatRec[:,:,k]).dot(B.T).dot(CtNormInvRec[:,:,k])\n",
    "                       \n",
    "#Movie\n",
    "#BEtaStarBMovie = np.zeros((nSteps, nNodes**2))\n",
    "#for k in range(nSteps):\n",
    "#    BEtaStarBMovie[k,:] = reshape_mv(BEtaStarBt[:,:,k])\n",
    "#np.savetxt('BEtaStarBMovie.dat',BEtaStarBMovie)\n",
    "\n",
    "#Matrix\n",
    "for t in np.arange(0,2,0.1):\n",
    "    np.savetxt('BEtaStarB-t'+str(t)+'-WALLS.dat', BEtaStarBt[:,:,step(t)])\n",
    "    np.savetxt('BEtaStarRecB-t'+str(t)+'-WALLS.dat', BEtaStarRecBt[:,:,step(t)])\n",
    "\n",
    "\n",
    "#Elements\n",
    "x = np.arange(0,dt*nSteps,dt)\n",
    "for i in range(10):\n",
    "    plt.plot(x,BEtaStarBt[i,i,:], label=str(i+1))\n",
    "#plt.legend(loc='upper right',fontsize=15)\n",
    "#plt.ylim(-5e-4, 5e-4)\n",
    "plt.show()\n",
    "x = np.arange(0,dt*nSteps,dt)\n",
    "for i in range(nNodes):\n",
    "    plt.plot(x,BEtaStarRecBt[i,i,:], label=str(i+1))\n",
    "#plt.legend(loc='upper right',fontsize=15)\n",
    "#plt.ylim(-5e-4, 5e-4)\n",
    "plt.show()\n"
   ]
  },
  {
   "cell_type": "raw",
   "metadata": {},
   "source": [
    "## 5.6.3. $\\Gamma^*$ and $\\tilde{\\Gamma^*}$"
   ]
  },
  {
   "cell_type": "raw",
   "metadata": {},
   "source": [
    "ForceFricStart    = np.zeros((nNodes, nNodes, nSteps))\n",
    "ForceFricStarRect = np.zeros((nNodes, nNodes, nSteps))\n",
    "for k in range(nSteps):\n",
    "    ForceFricStart[:,:,k] = Temp * (-Gt[:,:,k].dot(B.T)\\\n",
    "                         -(B).dot(Ht[:,:,k]) \\\n",
    "                         + Gammat[:,:,k]).dot(CtNormInv[:,:,k])   \n",
    "    ForceFricStarRect[:,:,k] = Temp * (-GtRec[:,:,k].dot(B.T)\\\n",
    "                         -(B).dot(HtRec[:,:,k]) \\\n",
    "                         + GammatRec[:,:,k]).dot(CtNormInvRec[:,:,k]) \n",
    "            \n",
    "#Movie\n",
    "#ForceFricStarMovie = np.zeros((nSteps, nNodes**2))\n",
    "#for k in range(nSteps):\n",
    "#    ForceFricStarMovie[k,:] = reshape_mv(ForceFricStart[:,:,k])\n",
    "#np.savetxt('ForceFricStarMovie.dat',ForceFricStarMovie)\n",
    "\n",
    "#Matrix\n",
    "for t in np.arange(0,2,0.1):\n",
    "    np.savetxt('ForceFricStar-t'+str(t)+'-WALLS.dat', ForceFricStart[:,:,step(t)])\n",
    "    np.savetxt('ForceFricStarRec-t'+str(t)+'-WALLS.dat', ForceFricStarRect[:,:,step(t)])\n",
    "\n",
    "\n",
    "#Elements\n",
    "x = np.arange(0,dt*nSteps,dt)\n",
    "for i in range(5):\n",
    "    plt.plot(x,ForceFricStart[i,i,:], label=str(i+1))\n",
    "#plt.legend(loc='upper right',fontsize=15)\n",
    "#plt.ylim(-1e-3,1e-3)\n",
    "plt.show()\n",
    "for i in range(nNodes):\n",
    "    plt.plot(x,ForceFricStarRect[i,i,:], label=str(i+1))\n",
    "#plt.legend(loc='upper right',fontsize=15)\n",
    "#plt.ylim(-1e-3,1e-3)\n",
    "plt.show()"
   ]
  },
  {
   "cell_type": "raw",
   "metadata": {},
   "source": [
    "## 5.6.4. Check $\\dot{C}(t)c^{-1}(t)=-k_B T[B\\eta(t)B^T+\\Gamma(t)]c^{-1}(t)$"
   ]
  },
  {
   "cell_type": "raw",
   "metadata": {},
   "source": [
    "Forcest    = np.zeros((nNodes, nNodes, nSteps))\n",
    "ForcesRect = np.zeros((nNodes, nNodes, nSteps))\n",
    "for k in range(nSteps):\n",
    "    Forcest[:,:,k]    = Temp * (BEtaStarBt[:,:,k] + ForceFricStart[:,:,k])\n",
    "    ForcesRect[:,:,k] = Temp * (BEtaStarRecBt[:,:,k] + ForceFricStarRect[:,:,k])\n",
    "\n",
    "#Matrix\n",
    "for t in np.arange(0,2,0.1):\n",
    "    np.savetxt('Forces-t'+str(t)+'-WALLS.dat', Forcest[:,:,step(t)])\n",
    "    np.savetxt('ForcesRec-t'+str(t)+'-WALLS.dat', ForcesRect[:,:,step(t)])\n",
    "\n",
    "#Elements of the diagonal\n",
    "x = np.arange(0,dt*nSteps,dt)\n",
    "for i in range(nNodes):\n",
    "    plt.plot(x,LambdaStart[i,i,:], label=str(i+1))\n",
    "plt.title(''r'$\\Lambda_{\\mu\\mu}(t)$')\n",
    "#plt.legend(loc='upper right',fontsize=15)\n",
    "plt.ylim(-8e-4,12e-4)\n",
    "plt.show()\n",
    "for i in range(nNodes):\n",
    "    plt.plot(x,Forcest[i,i,:], label=str(i+1))\n",
    "plt.title('Diagonal of 'r'$T[B\\eta(t)B^T+\\Gamma(t)]c^{-1}(t)$')\n",
    "#plt.legend(loc='upper right',fontsize=15)\n",
    "plt.ylim(-8e-4,12e-4)\n",
    "plt.show()\n",
    "\n",
    "#Diagonal in reciproal space\n",
    "for i in range(nNodes):\n",
    "    plt.plot(x,LambdaStarRect[i,i,:], label=str(i+1))\n",
    "plt.title(r'$\\tilde{\\Lambda}_{\\mu\\mu}(t)$')\n",
    "#plt.legend(loc='upper right',fontsize=15)\n",
    "#plt.ylim(-0.001,0.001)\n",
    "plt.show()\n",
    "for i in range(nNodes):\n",
    "    plt.plot(x,ForcesRect[i,i,:], label=str(i+1))\n",
    "#plt.legend(loc='upper right',fontsize=15)\n",
    "plt.title('Diagonal of 'r'$T[B\\tilde{\\eta}(t)B^T+\\tilde{\\Gamma}(t)]\\tilde{c}^{-1}(t)$')\n",
    "plt.ylim(-0.00025,0.0025)\n",
    "plt.show()"
   ]
  },
  {
   "cell_type": "raw",
   "metadata": {},
   "source": [
    "#### Errors"
   ]
  },
  {
   "cell_type": "raw",
   "metadata": {},
   "source": [
    "check1 = np.zeros((nNodes, nNodes, nSteps))\n",
    "check2 = np.zeros((nNodes, nNodes, nSteps))\n",
    "for k in range(nSteps):\n",
    "    check1[:,:,k] = LambdaStart[:,:,k] - Forcest[:,:,k]\n",
    "    check2[:,:,k] = LambdaStarRect[:,:,k] - ForcesRect[:,:,k]\n",
    "\n",
    "#for t in np.arange(0,2,0.1):\n",
    "#    np.savetxt('checkTh-t'+str(t)+'-WALLS.dat', check1[:,:,step(t)])\n",
    "\n",
    "x = np.arange(0,dt*nSteps,dt)\n",
    "for i in range(nNodes):\n",
    "    plt.plot(x,LambdaStart[i,i,:], '-')\n",
    "    #plt.plot(x,Forcest[i,i,:], '-')\n",
    "    plt.plot(x,check1[i,i,:], 'k')\n",
    "plt.title(''r'$\\Lambda_{\\mu\\mu}(t)$')\n",
    "#plt.legend(loc='upper right',fontsize=15)\n",
    "plt.ylim(-8e-5,12e-4)\n",
    "plt.show()"
   ]
  },
  {
   "cell_type": "markdown",
   "metadata": {},
   "source": [
    "# FIGURAS POSTER"
   ]
  },
  {
   "cell_type": "raw",
   "metadata": {},
   "source": [
    "plt.figure(1, figsize=(10,10))\n",
    "x = np.arange(0, nSteps * dt, dt)\n",
    "for i in range(nNodes):\n",
    "    plt.plot(x, LambdatRecChop[i,i,:])\n",
    "plt.axvline(x=0.2, color='k', linestyle='--', label='t=0.12')\n",
    "plt.title(r'$\\tilde{\\Lambda}^{\\tiny WALLS}_{\\mu(t)}$',fontsize=35)\n",
    "plt.xlabel('t',fontsize=30)\n",
    "plt.xlim(0,2)\n",
    "plt.ylim(-1,25)\n",
    "plt.tick_params(labelsize=30)\n",
    "plt.savefig('LambdaModest-WALLS.png')\n",
    "plt.show()"
   ]
  },
  {
   "cell_type": "raw",
   "metadata": {},
   "source": [
    "plt.figure(1, figsize=(10,10))\n",
    "x = np.arange(0, nSteps * dt, dt)\n",
    "for i in range(nNodes):\n",
    "    plt.plot(x, CtRec[i,i,:])\n",
    "#plt.axvline(x=0.2, color='k', linestyle='--', label='t=0.12')\n",
    "plt.title(r'$\\tilde{C}^{WALLS}_{\\mu(t)}$-66 nodes',fontsize=35)\n",
    "plt.xlabel('t',fontsize=30)\n",
    "plt.xlim(0,2)\n",
    "plt.ticklabel_format(style='sci', axis='y', scilimits=(0,0))\n",
    "#plt.ylim(-1,25)\n",
    "plt.tick_params(labelsize=30)\n",
    "plt.savefig('CtRec-WALLS-66nodes.png')\n",
    "plt.show()"
   ]
  },
  {
   "cell_type": "code",
   "execution_count": null,
   "metadata": {
    "collapsed": true
   },
   "outputs": [],
   "source": []
  }
 ],
 "metadata": {
  "kernelspec": {
   "display_name": "Python 2",
   "language": "python",
   "name": "python2"
  },
  "language_info": {
   "codemirror_mode": {
    "name": "ipython",
    "version": 2
   },
   "file_extension": ".py",
   "mimetype": "text/x-python",
   "name": "python",
   "nbconvert_exporter": "python",
   "pygments_lexer": "ipython2",
   "version": "2.7.14"
  }
 },
 "nbformat": 4,
 "nbformat_minor": 2
}
